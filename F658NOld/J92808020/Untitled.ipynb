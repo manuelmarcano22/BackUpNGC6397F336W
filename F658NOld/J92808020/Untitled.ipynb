{
 "cells": [
  {
   "cell_type": "code",
   "execution_count": 11,
   "metadata": {},
   "outputs": [],
   "source": [
    "import shutil\n",
    "import glob\n",
    "import os\n",
    "import subprocess\n",
    "\n",
    "import matplotlib.pyplot as plt\n",
    "from astropy.io import fits\n",
    "\n",
    "from astroquery.mast import Observations\n",
    "#from stwcs.updatewcs import updatewcs\n",
    "#from drizzlepac import tweakreg, astrodrizzle, photeq\n",
    "#from stsci.skypac import skymatch\n",
    "\n",
    "# ONLY needed for the simulation section:\n",
    "import numpy as np\n",
    "#from stwcs.wcsutil import HSTWCS\n",
    "#from drizzlepac.wfpc2Data import WFPC2_GAINS\n",
    "\n",
    "%matplotlib inline"
   ]
  },
  {
   "cell_type": "code",
   "execution_count": 10,
   "metadata": {},
   "outputs": [
    {
     "name": "stdout",
     "output_type": "stream",
     "text": [
      " obsID   obs_collection dataproduct_type ... parent_obsid dataRights calib_level\n",
      "-------- -------------- ---------------- ... ------------ ---------- -----------\n",
      "26383940            HST            image ...     24823970     PUBLIC           2\n",
      "26383940            HST            image ...     24823970     PUBLIC           3\n",
      "26383940            HST            image ...     24823970     PUBLIC           2\n",
      "26379066            HST            image ...     24823970     PUBLIC           2\n",
      "26379066            HST            image ...     24823970     PUBLIC           2\n",
      "26379066            HST            image ...     24823970     PUBLIC           2\n",
      "26379066            HST            image ...     24823970     PUBLIC           2\n",
      "26379066            HST            image ...     24823970     PUBLIC           2\n",
      "26379087            HST            image ...     24823970     PUBLIC           2\n",
      "26379087            HST            image ...     24823970     PUBLIC           2\n",
      "     ...            ...              ... ...          ...        ...         ...\n",
      "24029560            HST            image ...     24823970     PUBLIC           1\n",
      "24029561            HST            image ...     24823970     PUBLIC           2\n",
      "24029561            HST            image ...     24823970     PUBLIC           1\n",
      "24029561            HST            image ...     24823970     PUBLIC           1\n",
      "24029561            HST            image ...     24823970     PUBLIC           1\n",
      "24029561            HST            image ...     24823970     PUBLIC           1\n",
      "24029561            HST            image ...     24823970     PUBLIC           2\n",
      "24029561            HST            image ...     24823970     PUBLIC           2\n",
      "24029561            HST            image ...     24823970     PUBLIC           2\n",
      "24029561            HST            image ...     24823970     PUBLIC           2\n",
      "24029561            HST            image ...     24823970     PUBLIC           1\n",
      "Length = 47 rows\n",
      "Downloading URL https://mast.stsci.edu/api/v0.1/Download/file?uri=mast:HST/product/hst_10257_02_acs_wfc_f435w_j92802_drc.fits to ./mastDownload/HST/hst_10257_02_acs_wfc_f435w_j92802/hst_10257_02_acs_wfc_f435w_j92802_drc.fits ... [Done]\n",
      "Downloading URL https://mast.stsci.edu/api/v0.1/Download/file?uri=mast:HST/product/hst_10257_02_acs_wfc_f435w_j92802me_drc.fits to ./mastDownload/HST/hst_10257_02_acs_wfc_f435w_j92802me/hst_10257_02_acs_wfc_f435w_j92802me_drc.fits ... [Done]\n",
      "Downloading URL https://mast.stsci.edu/api/v0.1/Download/file?uri=mast:HST/product/hst_10257_02_acs_wfc_f435w_j92802me_flc.fits to ./mastDownload/HST/hst_10257_02_acs_wfc_f435w_j92802me/hst_10257_02_acs_wfc_f435w_j92802me_flc.fits ... [Done]\n",
      "Downloading URL https://mast.stsci.edu/api/v0.1/Download/file?uri=mast:HST/product/hst_10257_02_acs_wfc_f435w_j92802mf_drc.fits to ./mastDownload/HST/hst_10257_02_acs_wfc_f435w_j92802mf/hst_10257_02_acs_wfc_f435w_j92802mf_drc.fits ... [Done]\n",
      "Downloading URL https://mast.stsci.edu/api/v0.1/Download/file?uri=mast:HST/product/hst_10257_02_acs_wfc_f435w_j92802mf_flc.fits to ./mastDownload/HST/hst_10257_02_acs_wfc_f435w_j92802mf/hst_10257_02_acs_wfc_f435w_j92802mf_flc.fits ... [Done]\n",
      "Downloading URL https://mast.stsci.edu/api/v0.1/Download/file?uri=mast:HST/product/hst_10257_02_acs_wfc_total_j92802_drc.fits to ./mastDownload/HST/hst_10257_02_acs_wfc_total_j92802/hst_10257_02_acs_wfc_total_j92802_drc.fits ... [Done]\n",
      "Downloading URL https://mast.stsci.edu/api/v0.1/Download/file?uri=mast:HST/product/j92802010_drc.fits to ./mastDownload/HST/j92802010/j92802010_drc.fits ... [Done]\n",
      "Downloading URL https://mast.stsci.edu/api/v0.1/Download/file?uri=mast:HST/product/j92802meq_flc.fits to ./mastDownload/HST/j92802meq/j92802meq_flc.fits ... [Done]\n",
      "Downloading URL https://mast.stsci.edu/api/v0.1/Download/file?uri=mast:HST/product/j92802mfq_flc.fits to ./mastDownload/HST/j92802mfq/j92802mfq_flc.fits ... [Done]\n"
     ]
    },
    {
     "data": {
      "text/html": [
       "<i>Table length=9</i>\n",
       "<table id=\"table4850778416\" class=\"table-striped table-bordered table-condensed\">\n",
       "<thead><tr><th>Local Path</th><th>Status</th><th>Message</th><th>URL</th></tr></thead>\n",
       "<thead><tr><th>str99</th><th>str8</th><th>object</th><th>object</th></tr></thead>\n",
       "<tr><td>./mastDownload/HST/hst_10257_02_acs_wfc_f435w_j92802/hst_10257_02_acs_wfc_f435w_j92802_drc.fits</td><td>COMPLETE</td><td>None</td><td>None</td></tr>\n",
       "<tr><td>./mastDownload/HST/hst_10257_02_acs_wfc_f435w_j92802me/hst_10257_02_acs_wfc_f435w_j92802me_drc.fits</td><td>COMPLETE</td><td>None</td><td>None</td></tr>\n",
       "<tr><td>./mastDownload/HST/hst_10257_02_acs_wfc_f435w_j92802me/hst_10257_02_acs_wfc_f435w_j92802me_flc.fits</td><td>COMPLETE</td><td>None</td><td>None</td></tr>\n",
       "<tr><td>./mastDownload/HST/hst_10257_02_acs_wfc_f435w_j92802mf/hst_10257_02_acs_wfc_f435w_j92802mf_drc.fits</td><td>COMPLETE</td><td>None</td><td>None</td></tr>\n",
       "<tr><td>./mastDownload/HST/hst_10257_02_acs_wfc_f435w_j92802mf/hst_10257_02_acs_wfc_f435w_j92802mf_flc.fits</td><td>COMPLETE</td><td>None</td><td>None</td></tr>\n",
       "<tr><td>./mastDownload/HST/hst_10257_02_acs_wfc_total_j92802/hst_10257_02_acs_wfc_total_j92802_drc.fits</td><td>COMPLETE</td><td>None</td><td>None</td></tr>\n",
       "<tr><td>./mastDownload/HST/j92802010/j92802010_drc.fits</td><td>COMPLETE</td><td>None</td><td>None</td></tr>\n",
       "<tr><td>./mastDownload/HST/j92802meq/j92802meq_flc.fits</td><td>COMPLETE</td><td>None</td><td>None</td></tr>\n",
       "<tr><td>./mastDownload/HST/j92802mfq/j92802mfq_flc.fits</td><td>COMPLETE</td><td>None</td><td>None</td></tr>\n",
       "</table>"
      ],
      "text/plain": [
       "<Table length=9>\n",
       "                                             Local Path                                             ...\n",
       "                                               str99                                                ...\n",
       "--------------------------------------------------------------------------------------------------- ...\n",
       "    ./mastDownload/HST/hst_10257_02_acs_wfc_f435w_j92802/hst_10257_02_acs_wfc_f435w_j92802_drc.fits ...\n",
       "./mastDownload/HST/hst_10257_02_acs_wfc_f435w_j92802me/hst_10257_02_acs_wfc_f435w_j92802me_drc.fits ...\n",
       "./mastDownload/HST/hst_10257_02_acs_wfc_f435w_j92802me/hst_10257_02_acs_wfc_f435w_j92802me_flc.fits ...\n",
       "./mastDownload/HST/hst_10257_02_acs_wfc_f435w_j92802mf/hst_10257_02_acs_wfc_f435w_j92802mf_drc.fits ...\n",
       "./mastDownload/HST/hst_10257_02_acs_wfc_f435w_j92802mf/hst_10257_02_acs_wfc_f435w_j92802mf_flc.fits ...\n",
       "    ./mastDownload/HST/hst_10257_02_acs_wfc_total_j92802/hst_10257_02_acs_wfc_total_j92802_drc.fits ...\n",
       "                                                    ./mastDownload/HST/j92802010/j92802010_drc.fits ...\n",
       "                                                    ./mastDownload/HST/j92802meq/j92802meq_flc.fits ...\n",
       "                                                    ./mastDownload/HST/j92802mfq/j92802mfq_flc.fits ..."
      ]
     },
     "execution_count": 10,
     "metadata": {},
     "output_type": "execute_result"
    }
   ],
   "source": [
    "# Retrieve the observation information.\n",
    "if os.path.isdir('mastDownload'):\n",
    "    shutil.rmtree('mastDownload')\n",
    "#obs_table = Observations.query_criteria(obs_id='ua0605*', filters='F814W', obstype='ALL')\n",
    "obs_table = Observations.query_criteria(obs_collection='HST', proposal_id=['10257'],filters='CLEAR1L;F435W'\n",
    "                                        ,obs_id='j9280201*')\n",
    "\n",
    "products = Observations.get_product_list(obs_table)\n",
    "print(products)\n",
    "\n",
    "Observations.download_products(products, mrp_only=False, productSubGroupDescription=['FLC','DRC'], extension='fits')\n"
   ]
  },
  {
   "cell_type": "code",
   "execution_count": 7,
   "metadata": {},
   "outputs": [],
   "source": [
    "# Retrieve the observation information.\n",
    "if os.path.isdir('mastDownload'):\n",
    "    shutil.rmtree('mastDownload')\n",
    "#obs_table = Observations.query_criteria(obs_id='ua0605*', filters='F814W', obstype='ALL')\n",
    "obs_table = Observations.query_criteria(obs_collection='HST', proposal_id=['10257'],filters='F625W;CLEAR2L'\n",
    "                                        ,obs_id='j92801*')\n",
    "\n",
    "products = Observations.get_product_list(obs_table)\n",
    "\n",
    "#Observations.download_products(products, mrp_only=False, productSubGroupDescription=['FLC'], extension='fits')\n"
   ]
  },
  {
   "cell_type": "code",
   "execution_count": 8,
   "metadata": {},
   "outputs": [
    {
     "name": "stdout",
     "output_type": "stream",
     "text": [
      "Downloading URL https://mast.stsci.edu/api/v0.1/Download/file?uri=mast:HST/product/hst_10257_01_acs_wfc_f625w_j92801ck_flc.fits to ./mastDownload/HST/hst_10257_01_acs_wfc_f625w_j92801ck/hst_10257_01_acs_wfc_f625w_j92801ck_flc.fits ... [Done]\n",
      "Downloading URL https://mast.stsci.edu/api/v0.1/Download/file?uri=mast:HST/product/hst_10257_01_acs_wfc_f625w_j92801cl_flc.fits to ./mastDownload/HST/hst_10257_01_acs_wfc_f625w_j92801cl/hst_10257_01_acs_wfc_f625w_j92801cl_flc.fits ... [Done]\n",
      "Downloading URL https://mast.stsci.edu/api/v0.1/Download/file?uri=mast:HST/product/j92801ckq_flc.fits to ./mastDownload/HST/j92801ckq/j92801ckq_flc.fits ... [Done]\n",
      "Downloading URL https://mast.stsci.edu/api/v0.1/Download/file?uri=mast:HST/product/j92801clq_flc.fits to ./mastDownload/HST/j92801clq/j92801clq_flc.fits ... [Done]\n"
     ]
    },
    {
     "data": {
      "text/html": [
       "<i>Table length=4</i>\n",
       "<table id=\"table4976971984\" class=\"table-striped table-bordered table-condensed\">\n",
       "<thead><tr><th>Local Path</th><th>Status</th><th>Message</th><th>URL</th></tr></thead>\n",
       "<thead><tr><th>str99</th><th>str8</th><th>object</th><th>object</th></tr></thead>\n",
       "<tr><td>./mastDownload/HST/hst_10257_01_acs_wfc_f625w_j92801ck/hst_10257_01_acs_wfc_f625w_j92801ck_flc.fits</td><td>COMPLETE</td><td>None</td><td>None</td></tr>\n",
       "<tr><td>./mastDownload/HST/hst_10257_01_acs_wfc_f625w_j92801cl/hst_10257_01_acs_wfc_f625w_j92801cl_flc.fits</td><td>COMPLETE</td><td>None</td><td>None</td></tr>\n",
       "<tr><td>./mastDownload/HST/j92801ckq/j92801ckq_flc.fits</td><td>COMPLETE</td><td>None</td><td>None</td></tr>\n",
       "<tr><td>./mastDownload/HST/j92801clq/j92801clq_flc.fits</td><td>COMPLETE</td><td>None</td><td>None</td></tr>\n",
       "</table>"
      ],
      "text/plain": [
       "<Table length=4>\n",
       "                                             Local Path                                             ...\n",
       "                                               str99                                                ...\n",
       "--------------------------------------------------------------------------------------------------- ...\n",
       "./mastDownload/HST/hst_10257_01_acs_wfc_f625w_j92801ck/hst_10257_01_acs_wfc_f625w_j92801ck_flc.fits ...\n",
       "./mastDownload/HST/hst_10257_01_acs_wfc_f625w_j92801cl/hst_10257_01_acs_wfc_f625w_j92801cl_flc.fits ...\n",
       "                                                    ./mastDownload/HST/j92801ckq/j92801ckq_flc.fits ...\n",
       "                                                    ./mastDownload/HST/j92801clq/j92801clq_flc.fits ..."
      ]
     },
     "execution_count": 8,
     "metadata": {},
     "output_type": "execute_result"
    }
   ],
   "source": [
    "Observations.download_products(products, mrp_only=False, productSubGroupDescription=['FLC'], extension='fits')\n"
   ]
  },
  {
   "cell_type": "code",
   "execution_count": 18,
   "metadata": {},
   "outputs": [
    {
     "name": "stdout",
     "output_type": "stream",
     "text": [
      "Downloading URL https://mast.stsci.edu/api/v0.1/Download/file?uri=mast:HST/product/hst_10257_02_acs_wfc_f435w_j92802me_flc.fits to ./mastDownload/HST/hst_10257_02_acs_wfc_f435w_j92802me/hst_10257_02_acs_wfc_f435w_j92802me_flc.fits ... [Done]\n",
      "Downloading URL https://mast.stsci.edu/api/v0.1/Download/file?uri=mast:HST/product/hst_10257_02_acs_wfc_f435w_j92802mf_flc.fits to ./mastDownload/HST/hst_10257_02_acs_wfc_f435w_j92802mf/hst_10257_02_acs_wfc_f435w_j92802mf_flc.fits ... [Done]\n",
      "Downloading URL https://mast.stsci.edu/api/v0.1/Download/file?uri=mast:HST/product/j92802meq_flc.fits to ./mastDownload/HST/j92802meq/j92802meq_flc.fits ... [Done]\n",
      "Downloading URL https://mast.stsci.edu/api/v0.1/Download/file?uri=mast:HST/product/j92802mfq_flc.fits to ./mastDownload/HST/j92802mfq/j92802mfq_flc.fits ... [Done]\n"
     ]
    },
    {
     "data": {
      "text/html": [
       "<i>Table length=4</i>\n",
       "<table id=\"table4974763408\" class=\"table-striped table-bordered table-condensed\">\n",
       "<thead><tr><th>Local Path</th><th>Status</th><th>Message</th><th>URL</th></tr></thead>\n",
       "<thead><tr><th>str99</th><th>str8</th><th>object</th><th>object</th></tr></thead>\n",
       "<tr><td>./mastDownload/HST/hst_10257_02_acs_wfc_f435w_j92802me/hst_10257_02_acs_wfc_f435w_j92802me_flc.fits</td><td>COMPLETE</td><td>None</td><td>None</td></tr>\n",
       "<tr><td>./mastDownload/HST/hst_10257_02_acs_wfc_f435w_j92802mf/hst_10257_02_acs_wfc_f435w_j92802mf_flc.fits</td><td>COMPLETE</td><td>None</td><td>None</td></tr>\n",
       "<tr><td>./mastDownload/HST/j92802meq/j92802meq_flc.fits</td><td>COMPLETE</td><td>None</td><td>None</td></tr>\n",
       "<tr><td>./mastDownload/HST/j92802mfq/j92802mfq_flc.fits</td><td>COMPLETE</td><td>None</td><td>None</td></tr>\n",
       "</table>"
      ],
      "text/plain": [
       "<Table length=4>\n",
       "                                             Local Path                                             ...\n",
       "                                               str99                                                ...\n",
       "--------------------------------------------------------------------------------------------------- ...\n",
       "./mastDownload/HST/hst_10257_02_acs_wfc_f435w_j92802me/hst_10257_02_acs_wfc_f435w_j92802me_flc.fits ...\n",
       "./mastDownload/HST/hst_10257_02_acs_wfc_f435w_j92802mf/hst_10257_02_acs_wfc_f435w_j92802mf_flc.fits ...\n",
       "                                                    ./mastDownload/HST/j92802meq/j92802meq_flc.fits ...\n",
       "                                                    ./mastDownload/HST/j92802mfq/j92802mfq_flc.fits ..."
      ]
     },
     "execution_count": 18,
     "metadata": {},
     "output_type": "execute_result"
    }
   ],
   "source": [
    "\n",
    "# Retrieve the observation information.\n",
    "if os.path.isdir('mastDownload'):\n",
    "    shutil.rmtree('mastDownload')\n",
    "#obs_table = Observations.query_criteria(obs_id='ua0605*', filters='F814W', obstype='ALL')\n",
    "obs_table = Observations.query_criteria(obs_collection='HST', proposal_id=['10257'],filters='CLEAR1L;F435W', \n",
    "                                        obs_id='j92802*')\n",
    "products = Observations.get_product_list(obs_table)\n",
    "\n",
    "\n",
    "\n",
    "Observations.download_products(products, mrp_only=False, productSubGroupDescription=['FLC'], extension='fits')\n"
   ]
  },
  {
   "cell_type": "code",
   "execution_count": null,
   "metadata": {},
   "outputs": [],
   "source": []
  }
 ],
 "metadata": {
  "kernelspec": {
   "display_name": "Python 3",
   "language": "python",
   "name": "python3"
  },
  "language_info": {
   "codemirror_mode": {
    "name": "ipython",
    "version": 3
   },
   "file_extension": ".py",
   "mimetype": "text/x-python",
   "name": "python",
   "nbconvert_exporter": "python",
   "pygments_lexer": "ipython3",
   "version": "3.8.5"
  }
 },
 "nbformat": 4,
 "nbformat_minor": 5
}
