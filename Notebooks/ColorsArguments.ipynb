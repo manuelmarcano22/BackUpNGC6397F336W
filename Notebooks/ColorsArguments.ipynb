{
 "cells": [
  {
   "cell_type": "code",
   "execution_count": 1,
   "metadata": {},
   "outputs": [],
   "source": [
    "import numpy as np\n",
    "from astropy import units as u\n",
    "from astropy import constants as co"
   ]
  },
  {
   "cell_type": "markdown",
   "metadata": {},
   "source": [
    "From Pallanca et al 2017:\n",
    "\n",
    "$$I_0 = 15.12$$\n",
    "$$V_o = 16.05$$\n",
    "\n",
    "where $I_0$ is the de-reddened magnitudes in $F814W$.\n",
    "\n",
    "From the MUSE paper $T_eff = 4200 \\, k$. From [mamajek](https://www.pas.rochester.edu/~emamajek/EEM_dwarf_UBVIJHK_colors_Teff.txt) this is close to a K6V star that has \n",
    "$$T{eff} = 4300$$\n",
    "\n",
    "$$R _ \\odot = 0.676$$\n",
    "\n",
    "$M_v = 7.62$ and $V-I_c = 1.42$ so $$M_{Itheo} = 7.62 - 1.42 = 6.2$$\n",
    "\n",
    "From Richer et al (2008) $A_{F814W} = 0.33$. So \n",
    "\n",
    "$$M_{Itheo} = 6.2-0.33 = 5.87$$\n",
    "\n",
    "Now from Pallanca $m_I = 15.12$ so:\n",
    "\n",
    "$$M_{Iredback} = 15.12- 5 \\log \\left ( \\frac{2400}{10} \\right ) ^2= 3.219 $$\n",
    "\n",
    "so $$M_{Iredback} - M_{Itheo}= 5.87 -3.219 = 2.651$$\n",
    "\n",
    "Differnce in brightness = \n",
    "\n",
    "$$100^{2.651/5} = 11.4921$$\n",
    "\n",
    "$$R_{redback} = \\sqrt{11.4921} = 3.39 R_{theo} = 3.39*(0.676) = 2.29 R_\\odot $$\n",
    "\n",
    "Lets calculate the radous of the donor assuming that the donor is roche lobe filling and taking the values for Strader et al (2020) $q = 0.16$ and $M_{NS}= 1.78$. YOu get for  Porb of "
   ]
  },
  {
   "cell_type": "markdown",
   "metadata": {},
   "source": [
    "# Porb = 2*1.96 days"
   ]
  },
  {
   "cell_type": "code",
   "execution_count": 8,
   "metadata": {},
   "outputs": [
    {
     "data": {
      "text/latex": [
       "$3.1818289 \\; \\mathrm{}$"
      ],
      "text/plain": [
       "<Quantity 3.18182888>"
      ]
     },
     "execution_count": 8,
     "metadata": {},
     "output_type": "execute_result"
    }
   ],
   "source": [
    "m2=0.2848*co.M_sun.cgs\n",
    "period = 2.*1.96 *u.day\n",
    "rad=2./(3**(4./3.))*(m2)**(1/3.)*(period.cgs**2*co.G.cgs/(4*np.pi**2))**(1/3.)\n",
    "rad.cgs/co.R_sun.cgs"
   ]
  },
  {
   "cell_type": "code",
   "execution_count": 18,
   "metadata": {},
   "outputs": [
    {
     "data": {
      "text/latex": [
       "$1.3944796 \\times 10^{11} \\; \\mathrm{cm}$"
      ],
      "text/plain": [
       "<Quantity 1.39447958e+11 cm>"
      ]
     },
     "execution_count": 18,
     "metadata": {},
     "output_type": "execute_result"
    }
   ],
   "source": [
    "m2=(0.04)*(1.78)*co.M_sun.cgs\n",
    "period = 2.*1.96 *u.day\n",
    "rad=2./(3**(4./3.))*(m2)**(1/3.)*(period.cgs**2*co.G.cgs/(4*np.pi**2))**(1/3.)\n",
    "rad"
   ]
  },
  {
   "cell_type": "code",
   "execution_count": 20,
   "metadata": {},
   "outputs": [
    {
     "data": {
      "text/plain": [
       "139140000000.0"
      ]
     },
     "execution_count": 20,
     "metadata": {},
     "output_type": "execute_result"
    }
   ],
   "source": [
    "2*co.R_sun.cgs.value"
   ]
  },
  {
   "cell_type": "code",
   "execution_count": null,
   "metadata": {},
   "outputs": [],
   "source": [
    "m2=0.2848*co.M_sun.cgs\n",
    "period = 2.*1.96 *u.day\n",
    "rad=2./(3**(4./3.))*(m2)**(1/3.)*(period.cgs**2*co.G.cgs/(4*np.pi**2))**(1/3.)\n",
    "rad.cgs/co.R_sun.cgs"
   ]
  },
  {
   "cell_type": "code",
   "execution_count": 9,
   "metadata": {},
   "outputs": [
    {
     "data": {
      "text/plain": [
       "338688.0"
      ]
     },
     "execution_count": 9,
     "metadata": {},
     "output_type": "execute_result"
    }
   ],
   "source": [
    "period.cgs.value"
   ]
  },
  {
   "cell_type": "markdown",
   "metadata": {},
   "source": [
    "# Porb = 1.96 days"
   ]
  },
  {
   "cell_type": "code",
   "execution_count": 3,
   "metadata": {},
   "outputs": [
    {
     "data": {
      "text/latex": [
       "$2.0044266 \\; \\mathrm{}$"
      ],
      "text/plain": [
       "<Quantity 2.00442659>"
      ]
     },
     "execution_count": 3,
     "metadata": {},
     "output_type": "execute_result"
    }
   ],
   "source": [
    "m2=0.2848*co.M_sun.cgs\n",
    "period = 1.*1.96 *u.day\n",
    "rad=2./(3**(4./3.))*(m2)**(1/3.)*(period.cgs**2*co.G.cgs/(4*np.pi**2))**(1/3.)\n",
    "rad.cgs/co.R_sun.cgs"
   ]
  },
  {
   "cell_type": "code",
   "execution_count": null,
   "metadata": {},
   "outputs": [],
   "source": []
  }
 ],
 "metadata": {
  "kernelspec": {
   "display_name": "Python 3",
   "language": "python",
   "name": "python3"
  },
  "language_info": {
   "codemirror_mode": {
    "name": "ipython",
    "version": 3
   },
   "file_extension": ".py",
   "mimetype": "text/x-python",
   "name": "python",
   "nbconvert_exporter": "python",
   "pygments_lexer": "ipython3",
   "version": "3.8.5"
  }
 },
 "nbformat": 4,
 "nbformat_minor": 4
}
