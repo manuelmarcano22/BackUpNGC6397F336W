{
 "cells": [
  {
   "cell_type": "markdown",
   "metadata": {},
   "source": [
    "# Mass Function\n",
    "\n",
    "M1 and M2 with orbital period P. \n",
    "\n",
    "If the radial velocity of component 1 is seen with amplitude K1 then:\n",
    "\n",
    "\n",
    "$$f(M2) = \\frac{M2^3 \\sin ^3 i}{(M1+M2)^2} = \\frac{P K1^3}{2 \\pi G} $$"
   ]
  },
  {
   "cell_type": "markdown",
   "metadata": {},
   "source": [
    "# Radius of donor assuming q and mass neutron star"
   ]
  },
  {
   "cell_type": "code",
   "execution_count": 1,
   "metadata": {},
   "outputs": [],
   "source": [
    "from astropy import units as u\n",
    "from astropy import constants as co\n",
    "import numpy as np"
   ]
  },
  {
   "cell_type": "code",
   "execution_count": 2,
   "metadata": {},
   "outputs": [],
   "source": [
    "m2=0.2848*co.M_sun.cgs\n"
   ]
  },
  {
   "cell_type": "code",
   "execution_count": 3,
   "metadata": {},
   "outputs": [
    {
     "data": {
      "text/latex": [
       "$2.2135984 \\times 10^{11} \\; \\mathrm{cm}$"
      ],
      "text/plain": [
       "<Quantity 2.21359835e+11 cm>"
      ]
     },
     "execution_count": 3,
     "metadata": {},
     "output_type": "execute_result"
    }
   ],
   "source": [
    "period = 2.*1.96 *u.day\n",
    "rad=2./(3**(4./3.))*(m2)**(1/3.)*(period.cgs**2*co.G.cgs/(4*np.pi**2))**(1/3.)\n",
    "rad"
   ]
  },
  {
   "cell_type": "code",
   "execution_count": 4,
   "metadata": {},
   "outputs": [
    {
     "data": {
      "text/latex": [
       "$3.1818289 \\; \\mathrm{}$"
      ],
      "text/plain": [
       "<Quantity 3.18182888>"
      ]
     },
     "execution_count": 4,
     "metadata": {},
     "output_type": "execute_result"
    }
   ],
   "source": [
    "rad.cgs/co.R_sun.cgs"
   ]
  },
  {
   "cell_type": "code",
   "execution_count": 5,
   "metadata": {},
   "outputs": [
    {
     "data": {
      "text/latex": [
       "$2.1793194 \\times 10^{11} \\; \\mathrm{cm}$"
      ],
      "text/plain": [
       "<Quantity 2.17931936e+11 cm>"
      ]
     },
     "execution_count": 5,
     "metadata": {},
     "output_type": "execute_result"
    }
   ],
   "source": [
    "rad2 = ((m2.cgs*co.G.cgs*period.cgs**(2.))/(100.*4.*np.pi/3.))**(1/3.)\n",
    "rad2"
   ]
  },
  {
   "cell_type": "code",
   "execution_count": 6,
   "metadata": {},
   "outputs": [
    {
     "data": {
      "text/latex": [
       "$3.1325562 \\; \\mathrm{}$"
      ],
      "text/plain": [
       "<Quantity 3.13255621>"
      ]
     },
     "execution_count": 6,
     "metadata": {},
     "output_type": "execute_result"
    }
   ],
   "source": [
    "rad2.cgs/co.R_sun.cgs"
   ]
  },
  {
   "cell_type": "markdown",
   "metadata": {},
   "source": [
    "with sun"
   ]
  },
  {
   "cell_type": "code",
   "execution_count": 7,
   "metadata": {},
   "outputs": [
    {
     "data": {
      "text/latex": [
       "$1.0851721 \\; \\mathrm{}$"
      ],
      "text/plain": [
       "<Quantity 1.0851721>"
      ]
     },
     "execution_count": 7,
     "metadata": {},
     "output_type": "execute_result"
    }
   ],
   "source": [
    "m2=1*co.M_sun.cgs\n",
    "period =10*u.hr\n",
    "rad=2./(3**(4./3.))*(m2)**(1/3.)*(period.cgs**2*co.G.cgs/(4*np.pi**2))**(1/3.)\n",
    "rad.cgs/co.R_sun.cgs"
   ]
  },
  {
   "cell_type": "code",
   "execution_count": null,
   "metadata": {},
   "outputs": [],
   "source": []
  },
  {
   "cell_type": "code",
   "execution_count": null,
   "metadata": {},
   "outputs": [],
   "source": []
  }
 ],
 "metadata": {
  "kernelspec": {
   "display_name": "Python 3",
   "language": "python",
   "name": "python3"
  },
  "language_info": {
   "codemirror_mode": {
    "name": "ipython",
    "version": 3
   },
   "file_extension": ".py",
   "mimetype": "text/x-python",
   "name": "python",
   "nbconvert_exporter": "python",
   "pygments_lexer": "ipython3",
   "version": "3.8.5"
  }
 },
 "nbformat": 4,
 "nbformat_minor": 4
}
