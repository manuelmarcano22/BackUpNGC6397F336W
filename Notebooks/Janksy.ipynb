{
 "cells": [
  {
   "cell_type": "code",
   "execution_count": 1,
   "metadata": {},
   "outputs": [],
   "source": [
    "import numpy as np"
   ]
  },
  {
   "cell_type": "code",
   "execution_count": 6,
   "metadata": {},
   "outputs": [
    {
     "name": "stdout",
     "output_type": "stream",
     "text": [
      "lr 3.8013019278386995e+17\n",
      "2.0907160603112846e+27\n"
     ]
    }
   ],
   "source": [
    "lx = 6.7*10**(31) #ergs/s\n",
    "\n",
    "s9hrz = 54.7 #microjansky\n",
    "s9jy = s9hrz*10**(-6) #jansky\n",
    "\n",
    "jy = 10**(-23) # 10-23 erg s-1 cm-2 Hz-1 \n",
    "\n",
    "s9 = s9jy *jy # erg s-1 cm-2 Hz-1 \n",
    "\n",
    "dpc = 2.41*10**(3) #pc\n",
    "\n",
    "pc = 3.08567758128*10**(18) #cm\n",
    "\n",
    "dcm = dpc * pc\n",
    "\n",
    "lr = 4*np.pi*s9 * dcm**2 # ergs/s/Hz\n",
    "print('lr',lr)\n",
    "\n",
    "Lr = lr* 5.5*10**(9) \n",
    "print(Lr)"
   ]
  },
  {
   "cell_type": "code",
   "execution_count": 4,
   "metadata": {},
   "outputs": [
    {
     "data": {
      "text/plain": [
       "14.246142436810784"
      ]
     },
     "execution_count": 4,
     "metadata": {},
     "output_type": "execute_result"
    }
   ],
   "source": [
    "np.log10(lx/lr)"
   ]
  },
  {
   "cell_type": "code",
   "execution_count": 5,
   "metadata": {},
   "outputs": [
    {
     "data": {
      "text/plain": [
       "2.1187260323128164e+16"
      ]
     },
     "execution_count": 5,
     "metadata": {},
     "output_type": "execute_result"
    }
   ],
   "source": [
    "10**(np.log10(lx) -15.5)"
   ]
  },
  {
   "cell_type": "code",
   "execution_count": 59,
   "metadata": {},
   "outputs": [],
   "source": [
    "# Try twomm"
   ]
  },
  {
   "cell_type": "code",
   "execution_count": 44,
   "metadata": {},
   "outputs": [
    {
     "name": "stdout",
     "output_type": "stream",
     "text": [
      "2.3697330116873795e+17\n"
     ]
    }
   ],
   "source": [
    "lx = 7.*10**(29) #ergs/s\n",
    "\n",
    "s9hrz = 34.1 #microjansky\n",
    "s9jy = s9hrz*10**(-6) #jansky\n",
    "\n",
    "jy = 10**(-23) # 10-23 erg s-1 cm-2 Hz-1 \n",
    "\n",
    "s9 = s9jy *jy # erg s-1 cm-2 Hz-1 \n",
    "\n",
    "dpc = 2.41*10**(3) #pc\n",
    "\n",
    "pc = 3.08567758128*10**(18) #cm\n",
    "\n",
    "dcm = dpc * pc\n",
    "\n",
    "lr = 4*np.pi*s9 * dcm**2 # ergs/s/Hz\n",
    "print(lr)"
   ]
  },
  {
   "cell_type": "code",
   "execution_count": 45,
   "metadata": {},
   "outputs": [
    {
     "data": {
      "text/plain": [
       "14.345098040014257"
      ]
     },
     "execution_count": 45,
     "metadata": {},
     "output_type": "execute_result"
    }
   ],
   "source": [
    "np.log10(7.*10**(29)) -15.5"
   ]
  },
  {
   "cell_type": "code",
   "execution_count": 46,
   "metadata": {},
   "outputs": [
    {
     "data": {
      "text/plain": [
       "221359436211786.6"
      ]
     },
     "execution_count": 46,
     "metadata": {},
     "output_type": "execute_result"
    }
   ],
   "source": [
    "10**(np.log10(7.*10**(29)) -15.5)"
   ]
  },
  {
   "cell_type": "code",
   "execution_count": 47,
   "metadata": {},
   "outputs": [
    {
     "data": {
      "text/plain": [
       "2.3697330116873795e+17"
      ]
     },
     "execution_count": 47,
     "metadata": {},
     "output_type": "execute_result"
    }
   ],
   "source": [
    "lr"
   ]
  },
  {
   "cell_type": "code",
   "execution_count": 48,
   "metadata": {},
   "outputs": [
    {
     "data": {
      "text/plain": [
       "12.470398621465147"
      ]
     },
     "execution_count": 48,
     "metadata": {},
     "output_type": "execute_result"
    }
   ],
   "source": [
    "np.log10(lx/lr)"
   ]
  },
  {
   "cell_type": "code",
   "execution_count": 49,
   "metadata": {},
   "outputs": [
    {
     "name": "stdout",
     "output_type": "stream",
     "text": [
      "1.3033531564280585e+27\n"
     ]
    }
   ],
   "source": []
  },
  {
   "cell_type": "code",
   "execution_count": null,
   "metadata": {},
   "outputs": [],
   "source": []
  }
 ],
 "metadata": {
  "kernelspec": {
   "display_name": "Python 3",
   "language": "python",
   "name": "python3"
  },
  "language_info": {
   "codemirror_mode": {
    "name": "ipython",
    "version": 3
   },
   "file_extension": ".py",
   "mimetype": "text/x-python",
   "name": "python",
   "nbconvert_exporter": "python",
   "pygments_lexer": "ipython3",
   "version": "3.7.4"
  }
 },
 "nbformat": 4,
 "nbformat_minor": 4
}
