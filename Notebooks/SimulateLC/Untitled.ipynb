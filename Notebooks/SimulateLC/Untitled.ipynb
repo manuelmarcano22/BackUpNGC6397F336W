{
 "cells": [
  {
   "cell_type": "code",
   "execution_count": 1,
   "metadata": {},
   "outputs": [],
   "source": [
    "%load_ext line_profiler"
   ]
  },
  {
   "cell_type": "code",
   "execution_count": 2,
   "metadata": {},
   "outputs": [],
   "source": [
    "from vaina import lcsim2"
   ]
  },
  {
   "cell_type": "code",
   "execution_count": 3,
   "metadata": {},
   "outputs": [
    {
     "name": "stdout",
     "output_type": "stream",
     "text": [
      "0\n",
      "Taken 1.0970025062561035 seconds.\n",
      "*** KeyboardInterrupt exception caught in code being profiled."
     ]
    },
    {
     "data": {
      "text/plain": [
       "Timer unit: 1e-06 s\n",
       "\n",
       "Total time: 194.802 s\n",
       "File: /home/mmarcano/Documents/BackUpNGC6397F336W/Notebooks/SimulateLC/vaina.py\n",
       "Function: lcsim2 at line 220\n",
       "\n",
       "Line #      Hits         Time  Per Hit   % Time  Line Contents\n",
       "==============================================================\n",
       "   220                                           def lcsim2(timestodo):\n",
       "   221         1         10.0     10.0      0.0      start = tm.time()\n",
       "   222         1          6.0      6.0      0.0      dt = 10./60./24. # ten minutes in days\n",
       "   223         1          8.0      8.0      0.0      Nnumber = 30/dt # 21 days or 3 weeks\n",
       "   224         1          5.0      5.0      0.0      beta = 2. # red noise beta = 2\n",
       "   225                                           \n",
       "   226         1          5.0      5.0      0.0      maxvals = []\n",
       "   227         1          5.0      5.0      0.0      bestfreqs = []\n",
       "   228         1          6.0      6.0      0.0      plsmax = []\n",
       "   229         1          6.0      6.0      0.0      plots = False\n",
       "   230       201       6965.0     34.7      0.0      for i in np.arange(timestodo):\n",
       "   231                                           \n",
       "   232                                           \n",
       "   233                                           \n",
       "   234       201      11490.0     57.2      0.0          ts = dt * np.arange(Nnumber)\n",
       "   235                                           \n",
       "   236                                           \n",
       "   237       201     473508.0   2355.8      0.2          lcsimul = generate_power_law(Nnumber,dt,beta)\n",
       "   238                                           \n",
       "   239                                           \n",
       "   240                                                   #Add Noise\n",
       "   241       201     146118.0    727.0      0.1          noise =  np.random.normal(size=len(lcsimul),loc=np.mean(dmag),scale=np.std(dmag))\n",
       "   242       201       4299.0     21.4      0.0          lcsimulnoise = lcsimul + noise\n",
       "   243                                           \n",
       "   244                                           \n",
       "   245                                                   #Scale\n",
       "   246                                                   #lcsimulscalenoise = np.array([(i-lcsimulnoise.mean())/lcsimulnoise.std() for i in lcsimulnoise])\n",
       "   247       201      89654.0    446.0      0.0          lcsimulscalenoise = stats.zscore(lcsimulnoise)\n",
       "   248       201      38349.0    190.8      0.0          lcsimulscalenoise = lcsimulscalenoise*mag.std()+mag.mean()\n",
       "   249                                           \n",
       "   250       201    1148588.0   5714.4      0.6          f, PSD = PSD_continuous(ts, lcsimulscalenoise)\n",
       "   251                                           \n",
       "   252                                           \n",
       "   253                                                   #\n",
       "   254       201      11252.0     56.0      0.0          newmjd = ts + mjd.min()\n",
       "   255       201      21348.0    106.2      0.0          mjdsort = np.sort(mjd)\n",
       "   256       201       7074.0     35.2      0.0          magsort = mag[np.argsort(mjd)]\n",
       "   257                                           \n",
       "   258                                                   #closestarg = np.array([np.abs(i-newmjd).argmin() for i in mjdsort])\n",
       "   259       201  191151562.0 951002.8     98.1          closestarg = np.array([find_nearest1(newmjd,i) for i in mjdsort])\n",
       "   260                                           \n",
       "   261                                           \n",
       "   262                                           \n",
       "   263       200       2724.0     13.6      0.0          simulmjdclose = newmjd[closestarg]\n",
       "   264       200       1834.0      9.2      0.0          lcsimulclose = lcsimulscalenoise[closestarg]\n",
       "   265       200       1735.0      8.7      0.0          noiseclose = noise[closestarg]\n",
       "   266                                           \n",
       "   267                                           \n",
       "   268       200      27459.0    137.3      0.0          freq, PLS = LombScargle(simulmjdclose, lcsimulclose, noiseclose).autopower(minimum_frequency=1 / 10.,\n",
       "   269       200    1630022.0   8150.1      0.8                                                          maximum_frequency=1 / 0.1,method='fast')\n",
       "   270       200       6231.0     31.2      0.0          best_freq = freq[np.argmax(PLS)]\n",
       "   271       200       6879.0     34.4      0.0          phase = (mjd * best_freq) % 1\n",
       "   272                                           \n",
       "   273       200       6166.0     30.8      0.0          maxvals.append(PLS.max())\n",
       "   274       200       1205.0      6.0      0.0          bestfreqs.append(best_freq)\n",
       "   275       200       4007.0     20.0      0.0          if PLS.max() > maxdata:\n",
       "   276                                                       plsmax.append(PLS)\n",
       "   277       200       1851.0      9.3      0.0          if i % 1000 == 0:\n",
       "   278         1        239.0    239.0      0.0              print(i)\n",
       "   279         1        250.0    250.0      0.0              print(\"Taken\", tm.time() - start, \"seconds.\")\n",
       "   280                                           \n",
       "   281       200       1099.0      5.5      0.0          if plots:\n",
       "   282                                           \n",
       "   283                                                       plt.rc('font', family='serif')\n",
       "   284                                                       plt.rc('xtick', labelsize='x-large')\n",
       "   285                                                       plt.rc('ytick', labelsize='x-large')\n",
       "   286                                           \n",
       "   287                                                       fig = plt.figure(figsize=(20, 10))\n",
       "   288                                                       fig.subplots_adjust(wspace=0.1,hspace=0.5)\n",
       "   289                                           \n",
       "   290                                                       # First axes: plot the time series\n",
       "   291                                                       ax1 = fig.add_subplot(211)\n",
       "   292                                                       ax1.title.set_text(f'Simulated Max P{PLS.max()} at {1/best_freq}')\n",
       "   293                                                       #ax1.set(xlim=(0.2, 10),\n",
       "   294                                                       #          ylim=(0, 1));\n",
       "   295                                                       ax1.set(ylim=(0,1));\n",
       "   296                                                       ax1.set_xlabel('Period (days)',fontsize=20)\n",
       "   297                                                       ax1.set_ylabel('Lomb-Scargle Power',fontsize=20)\n",
       "   298                                                       ax1.tick_params(axis='both', which='major', labelsize=28)\n",
       "   299                                           \n",
       "   300                                           \n",
       "   301                                                       ax1.plot(1./freq, PLS,color='k',ls='solid')\n",
       "   302                                           \n",
       "   303                                                       #save iamge\n",
       "   304                                                       #fig.savefig('periodogram.eps', format='eps',bbox_inches = \"tight\")\n",
       "   305                                           \n",
       "   306                                           \n",
       "   307                                           \n",
       "   308                                           \n",
       "   309                                                       freq, PLS = LombScargle(mjd, mag, dmag).autopower(minimum_frequency=1 / 10.,\n",
       "   310                                                                                                       maximum_frequency=1 / 0.1)\n",
       "   311                                                       best_freq = freq[np.argmax(PLS)]\n",
       "   312                                                       phase = (mjd * best_freq) % 1\n",
       "   313                                           \n",
       "   314                                           \n",
       "   315                                                       # plot the periodogram\n",
       "   316                                           \n",
       "   317                                           \n",
       "   318                                           \n",
       "   319                                                       plt.show()"
      ]
     },
     "metadata": {},
     "output_type": "display_data"
    }
   ],
   "source": [
    "%lprun -f lcsim2 lcsim2(1000)"
   ]
  },
  {
   "cell_type": "code",
   "execution_count": null,
   "metadata": {},
   "outputs": [],
   "source": []
  }
 ],
 "metadata": {
  "kernelspec": {
   "display_name": "Python 3",
   "language": "python",
   "name": "python3"
  },
  "language_info": {
   "codemirror_mode": {
    "name": "ipython",
    "version": 3
   },
   "file_extension": ".py",
   "mimetype": "text/x-python",
   "name": "python",
   "nbconvert_exporter": "python",
   "pygments_lexer": "ipython3",
   "version": "3.7.4"
  }
 },
 "nbformat": 4,
 "nbformat_minor": 4
}
