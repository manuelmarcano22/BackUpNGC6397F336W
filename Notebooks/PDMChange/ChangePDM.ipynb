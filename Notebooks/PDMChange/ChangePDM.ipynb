{
 "cells": [
  {
   "cell_type": "code",
   "execution_count": 1,
   "metadata": {},
   "outputs": [],
   "source": [
    "from __future__ import print_function, division\n",
    "import numpy\n",
    "from PyAstronomy.pyaC import pyaErrors as PE\n",
    "import six.moves as smo\n",
    "\n",
    "class Scanner:\n",
    "  \n",
    "  def __init__(self, minVal=0.1, maxVal=10.0, dVal=0.05, mode=\"period\"):\n",
    "    \"\"\"\n",
    "      The Scanner class is used to define the period/frequency range and steps used in the \\\n",
    "      PDM analysis. It is iteratable.\n",
    "      \n",
    "      Parameters:\n",
    "        - `minVal` - float, Minimum value,\n",
    "        - `maxVal` - float, Maximum value,\n",
    "        - `dVal`   - float, Delta value,\n",
    "        - `mode`   - string, optional, Either \"period\" or \"frequency\" (default = \"period\").\n",
    "      \n",
    "      .. Note: Whether min, max, and dval refer to period or frequency depends on the ``mode'' parameter.\n",
    "      .. Note: Time units have match the time axis given to the PDM analysis class.\n",
    "    \"\"\"\n",
    "    if (mode != \"period\") and (mode != \"frequency\"):\n",
    "      raise(PE.PyAValError(\"`mode` must either be 'period' or 'frequency'. Current value is: \"+str(mode), \\\n",
    "                           where=\"Scanner::__init__\", solution=\"Choose either 'period' or 'frequency' for mode parameter.\"))\n",
    "    self.minVal = minVal\n",
    "    self.maxVal = maxVal\n",
    "    self.dVal = dVal\n",
    "    self.mode = mode\n",
    "  \n",
    "  def __iter__(self):\n",
    "    self.curVal = self.minVal\n",
    "    while self.curVal <= self.maxVal:\n",
    "      yield self.curVal\n",
    "      self.curVal += self.dVal\n",
    "\n",
    "\n",
    "\n",
    "class PyPDMmod:\n",
    "  \n",
    "  def __init__(self, time, mag):\n",
    "    \"\"\"\n",
    "      This class allows to carry out a ``Phase Dispersion Minimization'' (PDM) analysis as described in\n",
    "      Stellingwerf 1978.\n",
    "      \n",
    "      Parameters:\n",
    "       - time - array, The time array (arbitrary time units),\n",
    "       - mag - array, The corresponding flux in magnitudes. \n",
    "      \n",
    "      Properties:\n",
    "       - minBinPoints - The minimum number of data points,\n",
    "                        which may be contained in an individual bin (default = 3).\n",
    "    \"\"\"\n",
    "    # The minimum number of data points per bin.\n",
    "    self.minBinPoints = 3\n",
    "    # Save the data\n",
    "    self.x = time.copy()\n",
    "    self.y = mag.copy()\n",
    "  \n",
    "  def __setUpEquiBlocks(self, nbins, phases):\n",
    "    \"\"\"\n",
    "      Set up a sequence of equidistant bins. Then check whether all bins contain enough data points \\\n",
    "      (defined by minBinPoints property). \\\n",
    "      If this is not the case, the border to the adjacent bin with fewer photons is dropped. Therefore,\n",
    "      the resulting bins are not necessarily equidistant anymore.\n",
    "      \n",
    "      Parameters:\n",
    "       - nbins - int, The number of bins.\n",
    "       - phases - array, The phases of the data points. \n",
    "      \n",
    "      Returns: A list with the beginnings and one list with the ends of the bins (in phase). \n",
    "    \"\"\"\n",
    "    blockBegin = (numpy.arange(nbins) / float(nbins)).tolist()\n",
    "    blockEnd   = ((numpy.arange(nbins) + 1.0) / float(nbins)).tolist()\n",
    "    Ns = []\n",
    "    for i in smo.range(nbins):\n",
    "      indi = numpy.where(numpy.logical_and(phases >= blockBegin[i], phases < blockEnd[i]))[0]\n",
    "      Ns.append(len(indi))\n",
    "    \n",
    "    i = 0\n",
    "    while(i < len(Ns)):\n",
    "      if Ns[i] < self.minBinPoints:\n",
    "        # The bin with number i does not contain enough data points.\n",
    "        # Remove the border to make the bins larger...\n",
    "        iPlus = i + 1\n",
    "        iMinu = i - 1\n",
    "        NPlus = 0; NMinu = 0\n",
    "        if iPlus == len(blockEnd):\n",
    "          NPlus = 1e100\n",
    "        else:\n",
    "          NPlus = Ns[iPlus]\n",
    "        if iMinu == -1:\n",
    "          NMinu = 1e100\n",
    "        else:\n",
    "          NMinu = Ns[iMinu]\n",
    "        if NMinu <= NPlus:\n",
    "          # Eliminate the border to bin below\n",
    "          blockBegin.pop(i); blockEnd.pop(i-1)\n",
    "          Ns[i] = Ns[i-1] + Ns[i]; Ns.pop(i-1)\n",
    "          # Reiterate\n",
    "          i = 0\n",
    "          continue\n",
    "        else:\n",
    "          # Eliminate the border to bin behind\n",
    "          blockBegin.pop(i+1); blockEnd.pop(i)\n",
    "          Ns[i+1] = Ns[i] + Ns[i+1]; Ns.pop(i)\n",
    "          # Reiterate\n",
    "          i = 0\n",
    "          continue\n",
    "      i += 1\n",
    "    return blockBegin, blockEnd\n",
    "\n",
    "  def __setUpEquiBlocksCover(self, nbins, phases, covers):\n",
    "    \"\"\"\n",
    "      Set up a sequence of equidistant bins. Then reproduce the same sequence but offset by \\\n",
    "      1/(nbins*covers). In this vein, data points are covered by multiple bins. The phase \\\n",
    "      axis is cyclic. This function pays no attention to the number of data points within \\\n",
    "      individual bins.\n",
    "      \n",
    "      Parameters:\n",
    "       - nbins - int, The number of bins.\n",
    "       - phases - array, The phases of the data points. \n",
    "       - covers - int, The number of covers (as explained above).\n",
    "      \n",
    "      Returns: A list with the beginnings and one list with the ends of the bins (in phase). \n",
    "    \"\"\"\n",
    "    blockBegin = numpy.arange(nbins) / float(nbins)\n",
    "    blockEnd   = (numpy.arange(nbins) + 1.0) / float(nbins)\n",
    "    \n",
    "    blockBeginOrig = blockBegin.copy()\n",
    "    blockEndOrig = blockEnd.copy()\n",
    "    \n",
    "    offset = 0\n",
    "    for i in smo.range(1,covers):\n",
    "      offset = float(i)/float(nbins * covers)\n",
    "      blockBegin = numpy.append(blockBegin, blockBeginOrig + offset)\n",
    "      blockEnd   = numpy.append(blockEnd, blockEndOrig + offset)\n",
    "      \n",
    "    return blockBegin, blockEnd\n",
    "\n",
    "  def phase(self, time, period):\n",
    "    \"\"\"\n",
    "      Calculate phases and ordering.\n",
    "    \n",
    "      Parameter:\n",
    "        - `time` - array, Time stamps,\n",
    "        - `period` - float, The period used to calculate phases.\n",
    "    \n",
    "      Returns:\n",
    "        An unsorted phase array and an array with indices specifying the order. Thus,\n",
    "        phase[indi], mag[indi] is the phase-sorted phased light curve.\n",
    "    \"\"\"\n",
    "    phase = time/period - numpy.floor(time/period)\n",
    "    indi = numpy.argsort(phase)\n",
    "    return phase, indi\n",
    "  \n",
    "  def __getThet(self, phase, mag, bbegin, bend):\n",
    "    \"\"\"\n",
    "      Calculate the Theta statistics defined by Stellinger '78.\n",
    "      \n",
    "      Parameters:\n",
    "       - phase, mag - arrays, Phase-sorted(!) light curve.\n",
    "       - bbegin, bend -lists, begin and end of individual bins (``blocks'').\n",
    "      \n",
    "      Returns the value of Theta.\n",
    "    \"\"\"\n",
    "    meanMag = mag.mean()\n",
    "    N = len(mag)\n",
    "    M = len(bbegin)\n",
    "    sigmaSqr = ((mag - meanMag)**2).sum() / float(N - 1)\n",
    "\n",
    "    sSqrUp = 0.0; sSqrDown = 0.0\n",
    "    for i in smo.range(len(bbegin)):\n",
    "      # Points belonging to a chunk\n",
    "      indi = numpy.where(numpy.logical_and(phase >= bbegin[i], phase < bend[i]))[0]\n",
    "      nj = float(len(indi))\n",
    "      if nj > 1:\n",
    "        # Variance of individual block\n",
    "        sigmaj = ((mag[indi] - mag[indi].mean())**2).sum() / float(nj - 1)\n",
    "        sSqrUp += (nj - 1)*sigmaj\n",
    "        sSqrDown += nj\n",
    "        #print(M)\n",
    "    sSqrDown -= M\n",
    "    \n",
    "    sSqr = sSqrUp / sSqrDown\n",
    "    theta = sSqr / sigmaSqr\n",
    "    return theta, sSqrDown\n",
    "  \n",
    "  def pdmEquiBin(self, nbins, scanner):\n",
    "    \"\"\"\n",
    "      Carry out the PDM analysis using equidistant bins.\n",
    "      \n",
    "      This method uses equidistant bins, yet, it pays attention to the number of \\\n",
    "      data points contained in individual bins. If this number is insufficient \\\n",
    "      (as defined by the `minBinPoints` property), adjacent bins are combined\n",
    "      (see documentation of *__setUpEquiBlocks*).\n",
    "      \n",
    "      Parameters:\n",
    "        - `nbins` - int, Number of bins to use.\n",
    "        - `scanner` - An instance of the *Scanner* class, defining, which periods/frequencies\n",
    "                      are tested.\n",
    "      \n",
    "      Returns two arrays: the periods and the associated values of the Theta statistic. These\n",
    "      are also saved to the class properties `periods`, `frequencies`, and `theta`.\n",
    "      .. Note:: Whether the first return value is frequency or period\n",
    "                depends on the mode of the scanner.\n",
    "    \"\"\"\n",
    "    # Go through periods\n",
    "    periods = []; theta = [];downs = [];\n",
    "    for val in scanner:\n",
    "      if scanner.mode == \"period\":\n",
    "        period = val\n",
    "      else:\n",
    "        period = 1.0/val\n",
    "      # Note the p[indi], self.y[indi] is the ordered, phased light curve\n",
    "      p, indi = self.phase(self.x, period)\n",
    "      bbegin, bend = self.__setUpEquiBlocks(nbins, p[indi])\n",
    "      periods.append(period)\n",
    "      theta.append(self.__getThet(p[indi], self.y[indi], bbegin, bend)[0])\n",
    "      downs.append(self.__getThet(p[indi], self.y[indi], bbegin, bend)[1])\n",
    "    \n",
    "    # Save result\n",
    "    self.periods = numpy.array(periods)\n",
    "    self.frequencies = 1.0 / numpy.array(periods)\n",
    "    self.theta = numpy.array(theta)\n",
    "    \n",
    "    if scanner.mode == \"period\":\n",
    "      return self.periods.copy(), self.theta.copy(), downs\n",
    "    else:\n",
    "      return self.frequencies.copy(), self.theta.copy()\n",
    "\n",
    "  def pdmEquiBinCover(self, nbins, covers, scanner):\n",
    "    \"\"\"\n",
    "      Carry out the PDM analysis using multiple sequences of equidistant bins.\n",
    "      \n",
    "      The bins used by this method are equidistant, but the phase axis and, thus, \\\n",
    "      the data points are covered by multiple bins. The first sequence of bins is \\\n",
    "      the usual devision of the 0-1 interval into *nbins* bins; the following sequences \\\n",
    "      are the same but offset of 1/(nbins*covers) in phase (the phase axis is cyclic).\n",
    "      \n",
    "      This method does not check whether bins contain \"enough\" data points, i.e., it neglects \\\n",
    "      the `minBinPoints` property taken into account by *pdmEquiBin*. If, however, less than \\\n",
    "      two data points are contained within a bin, it is neglected.\n",
    "      \n",
    "      Parameters:\n",
    "        - `nbins` - int, Number of bins to use.\n",
    "        - `scanner` - An instance of the *Scanner* class, defining, which periods/frequencies are tested.\n",
    "        - `covers` - int, The number of covers, i.e., phase-shifted bin sets.\n",
    "      \n",
    "      Returns two arrays: the periods/frequencies and the associated values of the Theta statistic. These\n",
    "      are also saved to the class properties ``periods'', ``frequencies'', and ``theta''.\n",
    "      \n",
    "      .. Note:: Whether the first return value is frequency or period depends on the mode of the scanner.\n",
    "    \"\"\"\n",
    "    # Go through periods\n",
    "    periods = []; theta = []\n",
    "    for val in scanner:\n",
    "      if scanner.mode == \"period\":\n",
    "        period = val\n",
    "      else:\n",
    "        period = 1.0/val\n",
    "      # Note the p[indi], self.y[indi] is the ordered, phased light curve\n",
    "      p, indi = self.phase(self.x, period)\n",
    "      # Extend phase and mag arrays to allow for phases > 1.0 (cyclic phase array...)\n",
    "      phase = numpy.append(p[indi], p[indi]+1.0)\n",
    "      mag = numpy.append(self.y[indi], self.y[indi])\n",
    "      bbegin, bend = self.__setUpEquiBlocksCover(nbins, phase, covers)\n",
    "      periods.append(period)\n",
    "      theta.append(self.__getThet(phase, mag, bbegin, bend))\n",
    "    \n",
    "    # Save result\n",
    "    self.periods = numpy.array(periods)\n",
    "    self.frequencies = 1.0 / numpy.array(periods)\n",
    "    self.theta = numpy.array(theta)\n",
    "    \n",
    "    if scanner.mode == \"period\":\n",
    "      return self.periods.copy(), self.theta.copy()\n",
    "    else:\n",
    "      return self.frequencies.copy(), self.theta.copy()\n",
    "    \n",
    "    \n",
    "    \n",
    "    "
   ]
  },
  {
   "cell_type": "code",
   "execution_count": 2,
   "metadata": {},
   "outputs": [],
   "source": [
    "from PyAstronomy.pyTiming import pyPDM\n",
    "import numpy as np\n",
    "from scipy.stats import chi2\n",
    "import matplotlib.pyplot as plt\n",
    "import matplotlib.ticker\n",
    "import scipy.integrate as integrate\n",
    "from scipy.stats import f"
   ]
  },
  {
   "cell_type": "code",
   "execution_count": 3,
   "metadata": {},
   "outputs": [],
   "source": [
    "cp ../../u9712005/*18.npy ."
   ]
  },
  {
   "cell_type": "code",
   "execution_count": 4,
   "metadata": {},
   "outputs": [],
   "source": [
    "name = 'u18'\n",
    "mjd = np.load('mjd'+name+'.npy')\n",
    "mag = np.load('mag'+name+'.npy')\n",
    "dmag = np.load('dmag'+name+'.npy')\n",
    "obnames = np.load('obnames'+name+'.npy')\n",
    "time = np.load('time'+name+'.npy')\n"
   ]
  },
  {
   "cell_type": "code",
   "execution_count": 5,
   "metadata": {},
   "outputs": [],
   "source": [
    "# Get a ``scanner'', which defines the frequency interval to be checked.\n",
    "# Alternatively, also periods could be used instead of frequency.\n",
    "S = Scanner(minVal=0.3, maxVal=3. ,dVal=0.001, mode=\"period\")\n",
    "\n",
    "# Carry out PDM analysis. Get frequency array\n",
    "# (f, note that it is frequency, because the scanner's\n",
    "# mode is ``frequency'') and associated Theta statistic (t).\n",
    "# Use 10 phase bins and 3 covers (= phase-shifted set of bins).\n",
    "P = PyPDMmod(mjd, mag)\n",
    "f1, t1,downs = P.pdmEquiBin(10,S)\n",
    "\n",
    "#f1, t1 = P.pdmEquiBinCover(10, 3, S)\n",
    "\n",
    "thetadic = {'theta':t1,\n",
    "           'period':f1}  \n",
    "\n",
    "# Show the result\n",
    "\n",
    "\n"
   ]
  },
  {
   "cell_type": "code",
   "execution_count": 6,
   "metadata": {},
   "outputs": [
    {
     "name": "stdout",
     "output_type": "stream",
     "text": [
      "1685\n",
      "0.17491490438736132 1.984999999999892 104.0\n"
     ]
    }
   ],
   "source": [
    "wheremin = np.argmin(thetadic['theta'])\n",
    "periodbest = thetadic['period'][wheremin]\n",
    "thetabest = thetadic['theta'][wheremin]\n",
    "Nfatbest = downs[wheremin]\n",
    "print(wheremin)\n",
    "print(thetabest,periodbest,Nfatbest)\n"
   ]
  },
  {
   "cell_type": "code",
   "execution_count": 7,
   "metadata": {},
   "outputs": [
    {
     "data": {
      "text/plain": [
       "18.191150056285576"
      ]
     },
     "execution_count": 7,
     "metadata": {},
     "output_type": "execute_result"
    }
   ],
   "source": [
    "limit = Nfatbest* thetabest\n",
    "limit"
   ]
  },
  {
   "cell_type": "markdown",
   "metadata": {},
   "source": [
    "If N is large(>100). Here P is twice the area of the chi^2 distribution below Nf times Theta. Where nf is Sum nj -M. So denominator equation to get variance"
   ]
  },
  {
   "cell_type": "code",
   "execution_count": 8,
   "metadata": {},
   "outputs": [
    {
     "data": {
      "text/plain": [
       "[<matplotlib.lines.Line2D at 0x7fa2f8c057d0>]"
      ]
     },
     "execution_count": 8,
     "metadata": {},
     "output_type": "execute_result"
    },
    {
     "data": {
      "image/png": "[encoded data removed]",
      "text/plain": [
       "<Figure size 432x288 with 1 Axes>"
      ]
     },
     "metadata": {
      "needs_background": "light"
     },
     "output_type": "display_data"
    }
   ],
   "source": [
    "df = Nfatbest\n",
    "vals = chi2.ppf([0.001, 0.5, 0.999], df)\n",
    "chi2.cdf(vals, df)\n",
    "x = np.linspace(chi2.ppf(0.01, df),\n",
    "                chi2.ppf(0.99, df), 100)\n",
    "plt.plot(x, chi2.pdf(x, df),\n",
    "       'r-', lw=5, alpha=0.6, label='chi2 pdf')"
   ]
  },
  {
   "cell_type": "code",
   "execution_count": 9,
   "metadata": {},
   "outputs": [
    {
     "data": {
      "text/plain": [
       "[<matplotlib.lines.Line2D at 0x7fa2f8b18f90>]"
      ]
     },
     "execution_count": 9,
     "metadata": {},
     "output_type": "execute_result"
    },
    {
     "data": {
      "image/png": "[encoded data removed]",
      "text/plain": [
       "<Figure size 432x288 with 1 Axes>"
      ]
     },
     "metadata": {
      "needs_background": "light"
     },
     "output_type": "display_data"
    }
   ],
   "source": [
    "x2 = np.linspace(0,150,10000)\n",
    "vals = chi2.cdf(x2, df)\n",
    "\n",
    "plt.plot(x2, vals,\n",
    "       'r-', lw=5, alpha=0.6, label='chi2 pdf')"
   ]
  },
  {
   "cell_type": "markdown",
   "metadata": {},
   "source": [
    "## Fisher"
   ]
  },
  {
   "cell_type": "code",
   "execution_count": 10,
   "metadata": {},
   "outputs": [],
   "source": [
    "df1 ,df2 = 59,56\n",
    "thetaexamplefisher = 0.4\n",
    "sigmalimitfisher = 1/thetaexamplefisher"
   ]
  },
  {
   "cell_type": "code",
   "execution_count": 11,
   "metadata": {},
   "outputs": [
    {
     "data": {
      "text/plain": [
       "[<matplotlib.lines.Line2D at 0x7fa2f7aef6d0>]"
      ]
     },
     "execution_count": 11,
     "metadata": {},
     "output_type": "execute_result"
    },
    {
     "data": {
      "image/png": "[encoded data removed]",
      "text/plain": [
       "<Figure size 432x288 with 1 Axes>"
      ]
     },
     "metadata": {
      "needs_background": "light"
     },
     "output_type": "display_data"
    }
   ],
   "source": [
    "x2cdffisher = np.linspace(0,3,1000000)\n",
    "cdffisher = f.cdf(x2cdffisher, df1,df2)\n",
    "plt.plot(x2cdffisher, cdffisher,\n",
    "       'r-', lw=5, alpha=0.6)"
   ]
  },
  {
   "cell_type": "markdown",
   "metadata": {},
   "source": [
    "# pdf"
   ]
  },
  {
   "cell_type": "code",
   "execution_count": 12,
   "metadata": {},
   "outputs": [
    {
     "data": {
      "text/plain": [
       "[<matplotlib.lines.Line2D at 0x7fa2f7add2d0>]"
      ]
     },
     "execution_count": 12,
     "metadata": {},
     "output_type": "execute_result"
    },
    {
     "data": {
      "image/png": "[encoded data removed]",
      "text/plain": [
       "<Figure size 432x288 with 1 Axes>"
      ]
     },
     "metadata": {
      "needs_background": "light"
     },
     "output_type": "display_data"
    }
   ],
   "source": [
    "rvfisher = f(df1, df2)\n",
    "plt.plot(x2cdffisher, rvfisher.pdf(x2cdffisher), 'k-', lw=2, label='frozen pdf')"
   ]
  },
  {
   "cell_type": "code",
   "execution_count": 13,
   "metadata": {},
   "outputs": [
    {
     "name": "stdout",
     "output_type": "stream",
     "text": [
      "(0.00032759478737953577, 3.637032756959432e-18)\n"
     ]
    }
   ],
   "source": [
    "limitfx = np.where(x2cdffisher >= sigmalimitfisher)\n",
    "fxfexample = limitfx[0]\n",
    "limitlowf,limithighf = x2cdffisher[fxfexample[0]], x2cdffisher[fxfexample[-1]]\n",
    "resultf = integrate.quad(lambda x: rvfisher.pdf(x), limitlowf, limithighf)\n",
    "print(resultf)"
   ]
  },
  {
   "cell_type": "code",
   "execution_count": 14,
   "metadata": {},
   "outputs": [
    {
     "data": {
      "text/plain": [
       "[<matplotlib.lines.Line2D at 0x7fa2f7a45810>]"
      ]
     },
     "execution_count": 14,
     "metadata": {},
     "output_type": "execute_result"
    },
    {
     "data": {
      "image/png": "[encoded data removed]",
      "text/plain": [
       "<Figure size 432x288 with 1 Axes>"
      ]
     },
     "metadata": {
      "needs_background": "light"
     },
     "output_type": "display_data"
    }
   ],
   "source": [
    "lowind = np.argmin(abs(x2cdffisher-limitlowf))\n",
    "highind = np.argmin(abs(x2cdffisher-limithighf))\n",
    "plt.plot(x2cdffisher[lowind:highind], rvfisher.pdf(x2cdffisher[lowind:highind]), 'k-', lw=2, label='frozen pdf')"
   ]
  },
  {
   "cell_type": "code",
   "execution_count": 15,
   "metadata": {},
   "outputs": [
    {
     "name": "stdout",
     "output_type": "stream",
     "text": [
      "0.0006551895747590715\n"
     ]
    }
   ],
   "source": [
    "pf = 2*resultf[0]\n",
    "print(pf)"
   ]
  },
  {
   "cell_type": "markdown",
   "metadata": {},
   "source": [
    "# My data"
   ]
  },
  {
   "cell_type": "markdown",
   "metadata": {},
   "source": [
    "## Fisher"
   ]
  },
  {
   "cell_type": "code",
   "execution_count": 16,
   "metadata": {},
   "outputs": [],
   "source": [
    "df1 ,df2 = 112,104\n",
    "thetaexamplefisher = thetabest\n",
    "sigmalimitfisher = 1/thetaexamplefisher"
   ]
  },
  {
   "cell_type": "code",
   "execution_count": 17,
   "metadata": {},
   "outputs": [
    {
     "data": {
      "text/plain": [
       "[<matplotlib.lines.Line2D at 0x7fa2f7a25ed0>]"
      ]
     },
     "execution_count": 17,
     "metadata": {},
     "output_type": "execute_result"
    },
    {
     "data": {
      "image/png": "[encoded data removed]",
      "text/plain": [
       "<Figure size 432x288 with 1 Axes>"
      ]
     },
     "metadata": {
      "needs_background": "light"
     },
     "output_type": "display_data"
    }
   ],
   "source": [
    "x2cdffisher = np.linspace(0,10,1000000)\n",
    "cdffisher = f.cdf(x2cdffisher, df1,df2)\n",
    "plt.plot(x2cdffisher, cdffisher,\n",
    "       'r-', lw=5, alpha=0.6)"
   ]
  },
  {
   "cell_type": "markdown",
   "metadata": {},
   "source": [
    "# pdf"
   ]
  },
  {
   "cell_type": "code",
   "execution_count": 18,
   "metadata": {},
   "outputs": [
    {
     "data": {
      "text/plain": [
       "[<matplotlib.lines.Line2D at 0x7fa2f79962d0>]"
      ]
     },
     "execution_count": 18,
     "metadata": {},
     "output_type": "execute_result"
    },
    {
     "data": {
      "image/png": "[encoded data removed]",
      "text/plain": [
       "<Figure size 432x288 with 1 Axes>"
      ]
     },
     "metadata": {
      "needs_background": "light"
     },
     "output_type": "display_data"
    }
   ],
   "source": [
    "rvfisher = f(df1, df2)\n",
    "plt.plot(x2cdffisher, rvfisher.pdf(x2cdffisher), 'k-', lw=2, label='frozen pdf')"
   ]
  },
  {
   "cell_type": "code",
   "execution_count": 19,
   "metadata": {},
   "outputs": [
    {
     "name": "stdout",
     "output_type": "stream",
     "text": [
      "(1.3103253283594064e-17, 2.7335135955617477e-21)\n"
     ]
    }
   ],
   "source": [
    "limitfx = np.where(x2cdffisher >= sigmalimitfisher)\n",
    "fxfexample = limitfx[0]\n",
    "limitlowf,limithighf = x2cdffisher[fxfexample[0]], x2cdffisher[fxfexample[-1]]\n",
    "resultf = integrate.quad(lambda x: rvfisher.pdf(x), limitlowf, limithighf)\n",
    "print(resultf)"
   ]
  },
  {
   "cell_type": "code",
   "execution_count": 20,
   "metadata": {},
   "outputs": [
    {
     "data": {
      "text/plain": [
       "[<matplotlib.lines.Line2D at 0x7fa2f78f4550>]"
      ]
     },
     "execution_count": 20,
     "metadata": {},
     "output_type": "execute_result"
    },
    {
     "data": {
      "image/png": "[encoded data removed]",
      "text/plain": [
       "<Figure size 432x288 with 1 Axes>"
      ]
     },
     "metadata": {
      "needs_background": "light"
     },
     "output_type": "display_data"
    }
   ],
   "source": [
    "lowind = np.argmin(abs(x2cdffisher-limitlowf))\n",
    "highind = np.argmin(abs(x2cdffisher-limithighf))\n",
    "plt.plot(x2cdffisher[lowind:highind], rvfisher.pdf(x2cdffisher[lowind:highind]), 'k-', lw=2, label='frozen pdf')"
   ]
  },
  {
   "cell_type": "code",
   "execution_count": 21,
   "metadata": {},
   "outputs": [
    {
     "name": "stdout",
     "output_type": "stream",
     "text": [
      "2.6206506567188128e-17\n"
     ]
    }
   ],
   "source": [
    "pf = 2*resultf[0]\n",
    "print(pf)"
   ]
  },
  {
   "cell_type": "code",
   "execution_count": 22,
   "metadata": {},
   "outputs": [
    {
     "data": {
      "text/plain": [
       "5.7170656983319725"
      ]
     },
     "execution_count": 22,
     "metadata": {},
     "output_type": "execute_result"
    }
   ],
   "source": [
    "sigmalimitfisher"
   ]
  },
  {
   "cell_type": "code",
   "execution_count": 23,
   "metadata": {},
   "outputs": [
    {
     "data": {
      "text/plain": [
       "1e-07"
      ]
     },
     "execution_count": 23,
     "metadata": {},
     "output_type": "execute_result"
    }
   ],
   "source": [
    "1/10000000."
   ]
  },
  {
   "cell_type": "code",
   "execution_count": null,
   "metadata": {},
   "outputs": [],
   "source": []
  },
  {
   "cell_type": "code",
   "execution_count": null,
   "metadata": {},
   "outputs": [],
   "source": []
  },
  {
   "cell_type": "code",
   "execution_count": 24,
   "metadata": {},
   "outputs": [
    {
     "data": {
      "text/plain": [
       "0.0815129275321623"
      ]
     },
     "execution_count": 24,
     "metadata": {},
     "output_type": "execute_result"
    }
   ],
   "source": [
    "0.0815129275321623"
   ]
  },
  {
   "cell_type": "markdown",
   "metadata": {},
   "source": [
    "0.055955126818900094"
   ]
  },
  {
   "cell_type": "code",
   "execution_count": 25,
   "metadata": {},
   "outputs": [
    {
     "data": {
      "text/plain": [
       "[<matplotlib.lines.Line2D at 0x7fa2f78ced50>]"
      ]
     },
     "execution_count": 25,
     "metadata": {},
     "output_type": "execute_result"
    },
    {
     "data": {
      "image/png": "[encoded data removed]",
      "text/plain": [
       "<Figure size 432x288 with 1 Axes>"
      ]
     },
     "metadata": {
      "needs_background": "light"
     },
     "output_type": "display_data"
    }
   ],
   "source": [
    "x2fisher = np.linspace(0,50,10000)\n",
    "valsfisher = f.cdf(x2fisher, df1,df2)\n",
    "\n",
    "plt.plot(x2fisher, valsfisher,\n",
    "       'r-', lw=5, alpha=0.6, label='chi2 pdf')"
   ]
  },
  {
   "cell_type": "code",
   "execution_count": 26,
   "metadata": {},
   "outputs": [],
   "source": [
    "limitf = (1/thetaexamplefisher)/100.\n",
    "limitfx = np.where(valsfisher >= limitf)\n",
    "fxfexample = limitfx[0][-1]"
   ]
  },
  {
   "cell_type": "code",
   "execution_count": 185,
   "metadata": {},
   "outputs": [],
   "source": [
    "resultfexample = integrate.quad(lambda x: f.cdf(x, df1,df2), 0, x2fisher[fxfexample])"
   ]
  },
  {
   "cell_type": "code",
   "execution_count": 186,
   "metadata": {},
   "outputs": [
    {
     "data": {
      "text/plain": [
       "(48.96296296296296, 6.39585161091652e-11)"
      ]
     },
     "execution_count": 186,
     "metadata": {},
     "output_type": "execute_result"
    }
   ],
   "source": [
    "resultfexample"
   ]
  },
  {
   "cell_type": "markdown",
   "metadata": {},
   "source": [
    "istwicetheareaof the F distribution above 1/theta"
   ]
  },
  {
   "cell_type": "code",
   "execution_count": 171,
   "metadata": {},
   "outputs": [
    {
     "data": {
      "text/plain": [
       "(0, 0.03)"
      ]
     },
     "execution_count": 171,
     "metadata": {},
     "output_type": "execute_result"
    },
    {
     "data": {
      "image/png": "[encoded data removed]",
      "text/plain": [
       "<Figure size 432x288 with 1 Axes>"
      ]
     },
     "metadata": {
      "needs_background": "light"
     },
     "output_type": "display_data"
    }
   ],
   "source": [
    "valsfpdf = f.ppf([0.001, 0.5, 0.9], df1,df2)\n",
    "xfpdf = np.linspace(f.ppf(0.01, df1,df2),\n",
    "                f.ppf(0.99, df1,df2), 100)\n",
    "plt.plot(xfpdf , chi2.pdf(xfpdf, df1,df2),\n",
    "       'r-', lw=5, alpha=0.6, label='chi2 pdf')\n",
    "plt.ylim(0, 0.03)"
   ]
  },
  {
   "cell_type": "code",
   "execution_count": 118,
   "metadata": {},
   "outputs": [],
   "source": [
    "vals = chi2.ppf(np.linspace(0,0.9,100), df)\n",
    "result = integrate.quad(lambda x: chi2.pdf(x, df), 0, 150)"
   ]
  },
  {
   "cell_type": "code",
   "execution_count": 140,
   "metadata": {},
   "outputs": [
    {
     "data": {
      "text/plain": [
       "56"
      ]
     },
     "execution_count": 140,
     "metadata": {},
     "output_type": "execute_result"
    }
   ],
   "source": [
    "df2"
   ]
  },
  {
   "cell_type": "code",
   "execution_count": 120,
   "metadata": {},
   "outputs": [
    {
     "data": {
      "text/plain": [
       "(array([ 0,  1,  2,  3,  4,  5,  6,  7,  8,  9, 10, 11, 12]),)"
      ]
     },
     "execution_count": 120,
     "metadata": {},
     "output_type": "execute_result"
    }
   ],
   "source": [
    "np.where(x2 < limit/100.)"
   ]
  },
  {
   "cell_type": "code",
   "execution_count": 111,
   "metadata": {},
   "outputs": [
    {
     "data": {
      "text/plain": [
       "array([  0.        ,   1.51515152,   3.03030303,   4.54545455,\n",
       "         6.06060606,   7.57575758,   9.09090909,  10.60606061,\n",
       "        12.12121212,  13.63636364,  15.15151515,  16.66666667,\n",
       "        18.18181818,  19.6969697 ,  21.21212121,  22.72727273,\n",
       "        24.24242424,  25.75757576,  27.27272727,  28.78787879,\n",
       "        30.3030303 ,  31.81818182,  33.33333333,  34.84848485,\n",
       "        36.36363636,  37.87878788,  39.39393939,  40.90909091,\n",
       "        42.42424242,  43.93939394,  45.45454545,  46.96969697,\n",
       "        48.48484848,  50.        ,  51.51515152,  53.03030303,\n",
       "        54.54545455,  56.06060606,  57.57575758,  59.09090909,\n",
       "        60.60606061,  62.12121212,  63.63636364,  65.15151515,\n",
       "        66.66666667,  68.18181818,  69.6969697 ,  71.21212121,\n",
       "        72.72727273,  74.24242424,  75.75757576,  77.27272727,\n",
       "        78.78787879,  80.3030303 ,  81.81818182,  83.33333333,\n",
       "        84.84848485,  86.36363636,  87.87878788,  89.39393939,\n",
       "        90.90909091,  92.42424242,  93.93939394,  95.45454545,\n",
       "        96.96969697,  98.48484848, 100.        , 101.51515152,\n",
       "       103.03030303, 104.54545455, 106.06060606, 107.57575758,\n",
       "       109.09090909, 110.60606061, 112.12121212, 113.63636364,\n",
       "       115.15151515, 116.66666667, 118.18181818, 119.6969697 ,\n",
       "       121.21212121, 122.72727273, 124.24242424, 125.75757576,\n",
       "       127.27272727, 128.78787879, 130.3030303 , 131.81818182,\n",
       "       133.33333333, 134.84848485, 136.36363636, 137.87878788,\n",
       "       139.39393939, 140.90909091, 142.42424242, 143.93939394,\n",
       "       145.45454545, 146.96969697, 148.48484848, 150.        ])"
      ]
     },
     "execution_count": 111,
     "metadata": {},
     "output_type": "execute_result"
    }
   ],
   "source": [
    "x2"
   ]
  },
  {
   "cell_type": "code",
   "execution_count": null,
   "metadata": {},
   "outputs": [],
   "source": []
  }
 ],
 "metadata": {
  "kernelspec": {
   "display_name": "Python 3",
   "language": "python",
   "name": "python3"
  },
  "language_info": {
   "codemirror_mode": {
    "name": "ipython",
    "version": 3
   },
   "file_extension": ".py",
   "mimetype": "text/x-python",
   "name": "python",
   "nbconvert_exporter": "python",
   "pygments_lexer": "ipython3",
   "version": "3.7.4"
  }
 },
 "nbformat": 4,
 "nbformat_minor": 4
}
