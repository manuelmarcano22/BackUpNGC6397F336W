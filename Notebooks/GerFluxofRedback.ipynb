{
 "cells": [
  {
   "cell_type": "code",
   "execution_count": 1,
   "metadata": {},
   "outputs": [],
   "source": [
    "import numpy as np\n",
    "import matplotlib.pyplot as plt\n",
    "\n",
    "from synphot import SpectralElement\n",
    "\n",
    "from astropy.modeling.models import BlackBody\n",
    "import astropy.units as u\n",
    "from astropy import constants as const\n",
    "import scipy.integrate as integrate\n",
    "\n"
   ]
  },
  {
   "cell_type": "markdown",
   "metadata": {},
   "source": [
    "Assume a q of the system and a P orb. If it is close to riche filling to calcilate R. Then with a Teff of MUSE and R a flux at at given wavelenght and compare it to the Hugs data in F814W. Should be factor of 2.5 or something. \n",
    "\n",
    "Plancks law and filter I guess.\n",
    "\n",
    "photlam synphot.units.PHOTLAM photons−1cm−2𝐴˚−1"
   ]
  },
  {
   "cell_type": "markdown",
   "metadata": {},
   "source": [
    "in flam"
   ]
  },
  {
   "cell_type": "code",
   "execution_count": 2,
   "metadata": {},
   "outputs": [
    {
     "data": {
      "image/png": "[encoded data removed]",
      "text/plain": [
       "<Figure size 432x288 with 1 Axes>"
      ]
     },
     "metadata": {
      "needs_background": "light"
     },
     "output_type": "display_data"
    }
   ],
   "source": [
    "wavelengths = np.logspace(np.log10(100), np.log10(3e5), num=10000) * u.AA\n",
    "\n",
    "\n",
    "\n",
    "# blackbody parameters\n",
    "temperature = 5780* u.K\n",
    "\n",
    "# BlackBody provides the results in ergs/(cm^2 Hz s sr) when scale has no units\n",
    "bb = BlackBody(temperature=temperature)\n",
    "bb_result = bb(wavelengths)\n",
    "\n",
    "newbbresult = []\n",
    "for f,wav in zip(bb_result,wavelengths):\n",
    "    n = f.to(u.erg/u.s/u.cm**2/u.AA/u.sr,equivalencies=u.spectral_density(wav))\n",
    "    newbbresult.append(n.value)\n",
    "newbbresult = np.array(newbbresult)*u.erg/u.s/u.cm**2/u.AA/u.sr\n",
    "\n",
    "\n",
    "fig, ax = plt.subplots(ncols=1)\n",
    "ax.plot(wavelengths, bb_result, '-')\n",
    "\n",
    "ax.set_xscale('log')\n",
    "ax.set_xlabel(r\"$\\lambda$ [{}]\".format(wavelengths.unit))\n",
    "ax.set_ylabel(r\"$F(\\lambda)$ [{}]\".format(bb_result.unit))\n",
    "\n",
    "plt.tight_layout()\n",
    "plt.show()"
   ]
  },
  {
   "cell_type": "code",
   "execution_count": 3,
   "metadata": {},
   "outputs": [
    {
     "data": {
      "text/latex": [
       "$6.3286459 \\times 10^{10} \\; \\mathrm{\\frac{erg}{s\\,cm^{2}}}$"
      ],
      "text/plain": [
       "<Quantity 6.32864586e+10 erg / (cm2 s)>"
      ]
     },
     "execution_count": 3,
     "metadata": {},
     "output_type": "execute_result"
    }
   ],
   "source": [
    "integral = np.trapz(x=wavelengths, y=newbbresult)\n",
    "integral = integral * np.pi *u.sr\n",
    "integral"
   ]
  },
  {
   "cell_type": "code",
   "execution_count": 4,
   "metadata": {},
   "outputs": [
    {
     "data": {
      "text/latex": [
       "$3.8491485 \\times 10^{33} \\; \\mathrm{\\frac{erg}{s}}$"
      ],
      "text/plain": [
       "<Quantity 3.84914848e+33 erg / s>"
      ]
     },
     "execution_count": 4,
     "metadata": {},
     "output_type": "execute_result"
    }
   ],
   "source": [
    "lum = integral*4*np.pi*1*const.R_sun.cgs**2\n",
    "lum"
   ]
  },
  {
   "cell_type": "code",
   "execution_count": 5,
   "metadata": {},
   "outputs": [
    {
     "data": {
      "text/latex": [
       "$3.828 \\times 10^{33} \\; \\mathrm{\\frac{erg}{s}}$"
      ],
      "text/plain": [
       "<Quantity 3.828e+33 erg / s>"
      ]
     },
     "execution_count": 5,
     "metadata": {},
     "output_type": "execute_result"
    }
   ],
   "source": [
    "const.L_sun.cgs"
   ]
  },
  {
   "cell_type": "code",
   "execution_count": 6,
   "metadata": {},
   "outputs": [
    {
     "data": {
      "text/latex": [
       "$0.0055094768 \\; \\mathrm{}$"
      ],
      "text/plain": [
       "<Quantity 0.00550948>"
      ]
     },
     "execution_count": 6,
     "metadata": {},
     "output_type": "execute_result"
    }
   ],
   "source": [
    "np.log(lum.cgs/const.L_sun.cgs)"
   ]
  },
  {
   "cell_type": "markdown",
   "metadata": {},
   "source": [
    "# In a filter"
   ]
  },
  {
   "cell_type": "code",
   "execution_count": 62,
   "metadata": {},
   "outputs": [],
   "source": [
    "i = SpectralElement.from_filter('johnson_u') \n",
    "iflux = i(wavelengths)*newbbresult\n",
    "ifluxhz = i(wavelengths)*bb_result\n",
    "#bp = stsyn.band('acs,wfc1,f814w')  "
   ]
  },
  {
   "cell_type": "code",
   "execution_count": 63,
   "metadata": {},
   "outputs": [
    {
     "data": {
      "image/png": "[encoded data removed]",
      "text/plain": [
       "<Figure size 432x288 with 1 Axes>"
      ]
     },
     "metadata": {
      "needs_background": "light"
     },
     "output_type": "display_data"
    }
   ],
   "source": [
    "\n",
    "fig, ax = plt.subplots(ncols=1)\n",
    "ax.plot(wavelengths, bb_result, '-')\n",
    "ax.plot(wavelengths, bb_result*i(wavelengths), '-','r')\n",
    "\n",
    "\n",
    "ax.set_xscale('log')\n",
    "ax.set_xlabel(r\"$\\lambda$ [{}]\".format(wavelengths.unit))\n",
    "ax.set_ylabel(r\"$F(\\lambda)$ [{}]\".format(bb_result.unit))\n",
    "\n",
    "plt.tight_layout()\n",
    "plt.show()"
   ]
  },
  {
   "cell_type": "code",
   "execution_count": 64,
   "metadata": {},
   "outputs": [
    {
     "data": {
      "text/latex": [
       "$[0,~0,~0,~\\dots,~0,~0,~0] \\; \\mathrm{\\frac{erg}{\\mathring{A}\\,s\\,sr\\,cm^{2}}}$"
      ],
      "text/plain": [
       "<Quantity [0., 0., 0., ..., 0., 0., 0.] erg / (Angstrom cm2 s sr)>"
      ]
     },
     "execution_count": 64,
     "metadata": {},
     "output_type": "execute_result"
    }
   ],
   "source": [
    "iflux"
   ]
  },
  {
   "cell_type": "code",
   "execution_count": 65,
   "metadata": {},
   "outputs": [
    {
     "data": {
      "text/plain": [
       "Text(0.5, 0, '$\\\\lambda$ [Angstrom]')"
      ]
     },
     "execution_count": 65,
     "metadata": {},
     "output_type": "execute_result"
    },
    {
     "data": {
      "image/png": "[encoded data removed]",
      "text/plain": [
       "<Figure size 432x288 with 1 Axes>"
      ]
     },
     "metadata": {
      "needs_background": "light"
     },
     "output_type": "display_data"
    }
   ],
   "source": [
    "fig, ax = plt.subplots(ncols=1)\n",
    "\n",
    "ax.plot(wavelengths,i(wavelengths))\n",
    "\n",
    "ax.set_xscale('log')\n",
    "ax.set_xlabel(r\"$\\lambda$ [{}]\".format(wavelengths.unit))"
   ]
  },
  {
   "cell_type": "markdown",
   "metadata": {},
   "source": [
    "# Integrate in I\n"
   ]
  },
  {
   "cell_type": "code",
   "execution_count": 66,
   "metadata": {},
   "outputs": [
    {
     "data": {
      "text/latex": [
       "$3.5493503 \\times 10^{9} \\; \\mathrm{\\frac{erg}{s\\,cm^{2}}}$"
      ],
      "text/plain": [
       "<Quantity 3.5493503e+09 erg / (cm2 s)>"
      ]
     },
     "execution_count": 66,
     "metadata": {},
     "output_type": "execute_result"
    }
   ],
   "source": [
    "integrainI = np.trapz(x=wavelengths, y=iflux)\n",
    "integrainI = integrainI * np.pi *u.sr\n",
    "integrainI"
   ]
  },
  {
   "cell_type": "code",
   "execution_count": 67,
   "metadata": {},
   "outputs": [
    {
     "data": {
      "text/latex": [
       "$2.1587519 \\times 10^{32} \\; \\mathrm{\\frac{erg}{s}}$"
      ],
      "text/plain": [
       "<Quantity 2.15875191e+32 erg / s>"
      ]
     },
     "execution_count": 67,
     "metadata": {},
     "output_type": "execute_result"
    }
   ],
   "source": [
    "lumi = integrainI*4*np.pi*1*const.R_sun.cgs**2\n",
    "lumi"
   ]
  },
  {
   "cell_type": "code",
   "execution_count": 68,
   "metadata": {},
   "outputs": [
    {
     "data": {
      "text/latex": [
       "$69.782956 \\; \\mathrm{\\frac{erg}{\\mathring{A}\\,s\\,cm^{2}}}$"
      ],
      "text/plain": [
       "<Quantity 69.78295581 erg / (Angstrom cm2 s)>"
      ]
     },
     "execution_count": 68,
     "metadata": {},
     "output_type": "execute_result"
    }
   ],
   "source": [
    "fi = lumi/(4*np.pi*const.au.cgs**2)\n",
    "fi/((i.waverange[1]-i.waverange[0]))"
   ]
  },
  {
   "cell_type": "code",
   "execution_count": null,
   "metadata": {},
   "outputs": [],
   "source": []
  },
  {
   "cell_type": "code",
   "execution_count": 52,
   "metadata": {},
   "outputs": [
    {
     "data": {
      "text/latex": [
       "$-1.7881423 \\; \\mathrm{}$"
      ],
      "text/plain": [
       "<Quantity -1.78814225>"
      ]
     },
     "execution_count": 52,
     "metadata": {},
     "output_type": "execute_result"
    }
   ],
   "source": [
    "np.log(lumi.cgs/const.L_sun.cgs)"
   ]
  },
  {
   "cell_type": "code",
   "execution_count": 33,
   "metadata": {},
   "outputs": [
    {
     "data": {
      "text/latex": [
       "$3.8491485 \\times 10^{33} \\; \\mathrm{\\frac{erg}{s}}$"
      ],
      "text/plain": [
       "<Quantity 3.84914848e+33 erg / s>"
      ]
     },
     "execution_count": 33,
     "metadata": {},
     "output_type": "execute_result"
    }
   ],
   "source": [
    "lum"
   ]
  },
  {
   "cell_type": "code",
   "execution_count": 205,
   "metadata": {},
   "outputs": [
    {
     "data": {
      "text/latex": [
       "$4.2140697 \\times 10^{32} \\; \\mathrm{\\frac{erg}{s}}$"
      ],
      "text/plain": [
       "<Quantity 4.2140697e+32 erg / s>"
      ]
     },
     "execution_count": 205,
     "metadata": {},
     "output_type": "execute_result"
    }
   ],
   "source": [
    "lumi"
   ]
  },
  {
   "cell_type": "code",
   "execution_count": 63,
   "metadata": {},
   "outputs": [
    {
     "data": {
      "text/latex": [
       "$1.8535316 \\times 10^{14} \\; \\mathrm{Jy}$"
      ],
      "text/plain": [
       "<Quantity 1.85353162e+14 Jy>"
      ]
     },
     "execution_count": 63,
     "metadata": {},
     "output_type": "execute_result"
    }
   ],
   "source": [
    "tryab=(-26.77 * u.ABmag).to(u.jansky)\n",
    "tryab"
   ]
  },
  {
   "cell_type": "code",
   "execution_count": 64,
   "metadata": {},
   "outputs": [
    {
     "data": {
      "text/latex": [
       "$1.8535316 \\times 10^{14} \\; \\mathrm{Jy}$"
      ],
      "text/plain": [
       "<Quantity 1.85353162e+14 Jy>"
      ]
     },
     "execution_count": 64,
     "metadata": {},
     "output_type": "execute_result"
    }
   ],
   "source": [
    "tryab.to(u.jansky)"
   ]
  },
  {
   "cell_type": "code",
   "execution_count": 65,
   "metadata": {},
   "outputs": [],
   "source": [
    "# To AB"
   ]
  },
  {
   "cell_type": "code",
   "execution_count": 66,
   "metadata": {},
   "outputs": [
    {
     "data": {
      "text/latex": [
       "$4.9576117 \\times 10^{10} \\; \\mathrm{AB}$"
      ],
      "text/plain": [
       "<Quantity 4.95761167e+10 AB>"
      ]
     },
     "execution_count": 66,
     "metadata": {},
     "output_type": "execute_result"
    }
   ],
   "source": [
    "abtry = ((1.8)*10**(14))*u.jansky\n",
    "abtry.to(u.AB)"
   ]
  },
  {
   "cell_type": "code",
   "execution_count": 61,
   "metadata": {},
   "outputs": [
    {
     "data": {
      "text/latex": [
       "$1.8 \\times 10^{14} \\; \\mathrm{Jy}$"
      ],
      "text/plain": [
       "<Quantity 1.8e+14 Jy>"
      ]
     },
     "execution_count": 61,
     "metadata": {},
     "output_type": "execute_result"
    }
   ],
   "source": [
    "abtry"
   ]
  },
  {
   "cell_type": "code",
   "execution_count": null,
   "metadata": {},
   "outputs": [],
   "source": []
  },
  {
   "cell_type": "code",
   "execution_count": null,
   "metadata": {},
   "outputs": [],
   "source": []
  }
 ],
 "metadata": {
  "kernelspec": {
   "display_name": "Python 3",
   "language": "python",
   "name": "python3"
  },
  "language_info": {
   "codemirror_mode": {
    "name": "ipython",
    "version": 3
   },
   "file_extension": ".py",
   "mimetype": "text/x-python",
   "name": "python",
   "nbconvert_exporter": "python",
   "pygments_lexer": "ipython3",
   "version": "3.8.5"
  }
 },
 "nbformat": 4,
 "nbformat_minor": 4
}
