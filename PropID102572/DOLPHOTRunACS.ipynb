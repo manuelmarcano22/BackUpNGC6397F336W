{
 "cells": [
  {
   "cell_type": "markdown",
   "metadata": {},
   "source": [
    "# DOLPHOT/ACS\n",
    "\n",
    "Notebook to do photometry with DOLPHOT and ACSdata. It calls the bash routines and the outpout redirected to a file so the notebook doesn't get too long.,\n",
    "\n",
    "Dolphot2 doesnt per image some parameters and does it for all images"
   ]
  },
  {
   "cell_type": "code",
   "execution_count": 1,
   "metadata": {},
   "outputs": [],
   "source": [
    "import glob\n",
    "import os\n",
    "import subprocess\n",
    "from shutil import copy2\n",
    "from dolphot2 import DolphotParameters"
   ]
  },
  {
   "cell_type": "code",
   "execution_count": 2,
   "metadata": {},
   "outputs": [
    {
     "data": {
      "text/plain": [
       "'/Users/ttu_astro/Documents/BackUpNGC6397F336W/PropID102572'"
      ]
     },
     "execution_count": 2,
     "metadata": {},
     "output_type": "execute_result"
    }
   ],
   "source": [
    "pwd"
   ]
  },
  {
   "cell_type": "code",
   "execution_count": 3,
   "metadata": {},
   "outputs": [],
   "source": [
    "datadir = 'FirstSet/Try/'\n"
   ]
  },
  {
   "cell_type": "code",
   "execution_count": 4,
   "metadata": {},
   "outputs": [],
   "source": [
    "listainitials = glob.glob('FirstSet/Originals/**/*.fits')\n",
    "#drzinitial = glob.glob('Originals/u971010*drz.fits')\n",
    "#drzinitialfile =drzinitial[0]\n",
    "#drzinitialfilename = drzinitialfile.split('.')[0].split('/')[1]\n",
    "#listainitials.append(drzinitial[0])\n",
    "#print(listainitials)\n",
    "#finaldrizorfile = 'Driz/final_drz_sci.fits'\n",
    "#listainitials.append(finaldrizorfile)\n",
    "##drzfilename = finaldrizorfile.split('.')[0].split('/')[1]\n",
    "#print(drzfilename)\n",
    "#print(listainitials)\n",
    "\n",
    "for i in listainitials:\n",
    "    copy2(i,datadir)\n",
    "#listainitials"
   ]
  },
  {
   "cell_type": "code",
   "execution_count": 5,
   "metadata": {},
   "outputs": [
    {
     "data": {
      "text/plain": [
       "['FirstSet/Try/j92801ctq_flc.fits',\n",
       " 'FirstSet/Try/j92801clq_flc.fits',\n",
       " 'FirstSet/Try/j92802meq_flc.fits',\n",
       " 'FirstSet/Try/j92801crq_flc.fits',\n",
       " 'FirstSet/Try/j92801ckq_flc.fits',\n",
       " 'FirstSet/Try/j92801cnq_flc.fits',\n",
       " 'FirstSet/Try/j92801cpq_flc.fits',\n",
       " 'FirstSet/Try/j92802mfq_flc.fits']"
      ]
     },
     "execution_count": 5,
     "metadata": {},
     "output_type": "execute_result"
    }
   ],
   "source": [
    "pattern = 'j*flc.fits'\n",
    "listaflc = glob.glob('{}{}'.format(datadir,pattern))\n",
    "listafits = glob.glob('{}{}'.format(datadir,'*fits'))\n",
    "listaflc"
   ]
  },
  {
   "cell_type": "markdown",
   "metadata": {},
   "source": [
    "listacom"
   ]
  },
  {
   "cell_type": "code",
   "execution_count": 45,
   "metadata": {},
   "outputs": [
    {
     "name": "stdout",
     "output_type": "stream",
     "text": [
      "acsmask FirstSet/Try/j92801ctq_flc.fits >> acsmask.log\n",
      "acsmask FirstSet/Try/hst_10257_01_acs_wfc_f658n_j92801_drc.fits >> acsmask.log\n",
      "acsmask FirstSet/Try/j92801clq_flc.fits >> acsmask.log\n",
      "acsmask FirstSet/Try/j92802meq_flc.fits >> acsmask.log\n",
      "acsmask FirstSet/Try/j92801crq_flc.fits >> acsmask.log\n",
      "acsmask FirstSet/Try/hst_10257_01_acs_wfc_f625w_j92801_drc.fits >> acsmask.log\n",
      "acsmask FirstSet/Try/j92801ckq_flc.fits >> acsmask.log\n",
      "acsmask FirstSet/Try/j92801cnq_flc.fits >> acsmask.log\n",
      "acsmask FirstSet/Try/j92801cpq_flc.fits >> acsmask.log\n",
      "acsmask FirstSet/Try/j92802mfq_flc.fits >> acsmask.log\n",
      "acsmask FirstSet/Try/hst_10257_02_acs_wfc_f435w_j92802_drc.fits >> acsmask.log\n"
     ]
    }
   ],
   "source": [
    "for i in listafits:\n",
    "    #t = i.replace('c0m','c1m')\n",
    "    commandmask = 'acsmask {} >> acsmask.log'.format(i)\n",
    "    print(commandmask)\n",
    "    ! {commandmask}\n",
    "#! head wfpc2mask.log"
   ]
  },
  {
   "cell_type": "markdown",
   "metadata": {},
   "source": [
    "# 3.3 splitgroups: Split UVIS Chips"
   ]
  },
  {
   "cell_type": "code",
   "execution_count": 47,
   "metadata": {},
   "outputs": [
    {
     "name": "stdout",
     "output_type": "stream",
     "text": [
      "splitgroups FirstSet/Try/*.fits >> splitgroups.log\n",
      "Reading FITS file FirstSet/Try/hst_10257_01_acs_wfc_f625w_j92801_drc.fits\n",
      "Reading IMAGE extension: 6420x6416\n",
      "Writing FITS file FirstSet/Try/hst_10257_01_acs_wfc_f625w_j92801_drc.chip1.fits: 6420x6416\n",
      "Reading FITS file FirstSet/Try/hst_10257_01_acs_wfc_f658n_j92801_drc.fits\n",
      "Reading IMAGE extension: 6420x6416\n",
      "Writing FITS file FirstSet/Try/hst_10257_01_acs_wfc_f658n_j92801_drc.chip1.fits: 6420x6416\n",
      "Reading FITS file FirstSet/Try/hst_10257_02_acs_wfc_f435w_j92802_drc.fits\n",
      "Reading IMAGE extension: 6103x6081\n",
      "Writing FITS file FirstSet/Try/hst_10257_02_acs_wfc_f435w_j92802_drc.chip1.fits: 6103x6081\n",
      "Reading FITS file FirstSet/Try/j92801ckq_flc.fits\n"
     ]
    }
   ],
   "source": [
    "dirfits = datadir+'*.fits'\n",
    "#print(dirfits)\n",
    "commandsplit = 'splitgroups {} >> splitgroups.log'.format(dirfits)\n",
    "print(commandsplit)\n",
    "! {commandsplit}\n",
    "! head splitgroups.log"
   ]
  },
  {
   "cell_type": "markdown",
   "metadata": {},
   "source": [
    "# 3.4 calcsky: Calculate Sky for Image"
   ]
  },
  {
   "cell_type": "code",
   "execution_count": 56,
   "metadata": {},
   "outputs": [
    {
     "name": "stdout",
     "output_type": "stream",
     "text": [
      "calcsky FirstSet/Try/j92802meq_flc.chip2 15 35 4 2.25 2.0 >> calcsky.log\n",
      "calcsky FirstSet/Try/j92801cpq_flc.chip2 15 35 4 2.25 2.0 >> calcsky.log\n",
      "calcsky FirstSet/Try/j92801crq_flc.chip1 15 35 4 2.25 2.0 >> calcsky.log\n",
      "calcsky FirstSet/Try/j92802mfq_flc.chip1 15 35 4 2.25 2.0 >> calcsky.log\n",
      "calcsky FirstSet/Try/j92801clq_flc.chip2 15 35 4 2.25 2.0 >> calcsky.log\n",
      "calcsky FirstSet/Try/j92801cnq_flc.chip1 15 35 4 2.25 2.0 >> calcsky.log\n",
      "calcsky FirstSet/Try/j92801ckq_flc.chip2 15 35 4 2.25 2.0 >> calcsky.log\n",
      "calcsky FirstSet/Try/j92801ctq_flc.chip1 15 35 4 2.25 2.0 >> calcsky.log\n",
      "calcsky FirstSet/Try/hst_10257_01_acs_wfc_f658n_j92801_drc.chip1 15 35 4 2.25 2.0 >> calcsky.log\n",
      "calcsky FirstSet/Try/j92801ctq_flc.chip2 15 35 4 2.25 2.0 >> calcsky.log\n",
      "calcsky FirstSet/Try/j92801cnq_flc.chip2 15 35 4 2.25 2.0 >> calcsky.log\n",
      "calcsky FirstSet/Try/j92801ckq_flc.chip1 15 35 4 2.25 2.0 >> calcsky.log\n",
      "calcsky FirstSet/Try/j92801clq_flc.chip1 15 35 4 2.25 2.0 >> calcsky.log\n",
      "calcsky FirstSet/Try/j92802mfq_flc.chip2 15 35 4 2.25 2.0 >> calcsky.log\n",
      "calcsky FirstSet/Try/j92801crq_flc.chip2 15 35 4 2.25 2.0 >> calcsky.log\n",
      "calcsky FirstSet/Try/hst_10257_02_acs_wfc_f435w_j92802_drc.chip1 15 35 4 2.25 2.0 >> calcsky.log\n",
      "calcsky FirstSet/Try/hst_10257_01_acs_wfc_f625w_j92801_drc.chip1 15 35 4 2.25 2.0 >> calcsky.log\n",
      "calcsky FirstSet/Try/j92802meq_flc.chip1 15 35 4 2.25 2.0 >> calcsky.log\n",
      "calcsky FirstSet/Try/j92801cpq_flc.chip1 15 35 4 2.25 2.0 >> calcsky.log\n",
      "Reading FITS file FirstSet/Try/j92802meq_flc.chip2.fits: 4096x2048\n",
      "  BAD=-980.45 SAT=255317.69\n",
      "  BAD=-980.45 SAT=255317.69\n",
      "......................................................................\n",
      "Writing FITS file FirstSet/Try/j92802meq_flc.chip2.sky.fits: 4096x2048\n",
      "Reading FITS file FirstSet/Try/j92801cpq_flc.chip2.fits: 4096x2048\n",
      "  BAD=-733.64 SAT=253500.89\n",
      "  BAD=-733.64 SAT=253500.89\n",
      "......................................................................\n",
      "Writing FITS file FirstSet/Try/j92801cpq_flc.chip2.sky.fits: 4096x2048\n"
     ]
    }
   ],
   "source": [
    "rin=15\n",
    "rout = 35\n",
    "step = 4\n",
    "sigmalow = 2.25\n",
    "sigmahigh = 2.00\n",
    "listaflcall = glob.glob('{}{}'.format(datadir,'j*flc.*.fits'))\n",
    "listachipdrc = glob.glob('{}{}'.format(datadir,'*drc.*.fits'))\n",
    "listachipsall = glob.glob('{}{}'.format(datadir,'*chip*.fits'))\n",
    "#listafits = glob.glob('{}{}'.format(datadir,'*fits'))\n",
    "#print(listachipdrz)\n",
    "for i in listachipsall:\n",
    "    name = i.split('.fits')[0]\n",
    "    #print(name)\n",
    "    #name = 'Try/u9710103m_c0m.chip1'\n",
    "    calcskycommad = 'calcsky {} {} {} {} {} {} >> calcsky.log'.format(name,rin,rout,step,sigmalow, sigmahigh)\n",
    "    print(calcskycommad)\n",
    "    ! {calcskycommad}\n",
    "\n",
    "! head calcsky.log\n"
   ]
  },
  {
   "cell_type": "markdown",
   "metadata": {},
   "source": [
    "# Build ParaFirstSet/ile\n",
    "\n",
    "This is a great exampleto build a param file in htis git repo:\n",
    "\n",
    "https://github.com/jonathansick/delphinus\n",
    "\n",
    "Ill use this to build the params file.\n",
    "\n",
    "\n",
    "Do it only one or it will add"
   ]
  },
  {
   "cell_type": "code",
   "execution_count": 6,
   "metadata": {},
   "outputs": [],
   "source": [
    "dolpa = DolphotParameters(PSFPhot=1,PSFPhotIt=2,Force1=0,FitSky=2,RAper=3,RChi=2,RPSF=15,\n",
    "                          RSky2=(15, 35), apsky=(15, 25),SkipSky=2,SkySig=2.25,secondPass=5,\n",
    "                          SigFindMult=0.85,MaxIT=25,NoiseMult=0.10, FSat=0.999, ApCor=1,\n",
    "                          RCentroid=2,PosStep=0.25,RCombine=1.5,sigPSF=5.0,PSFres=1,\n",
    "                          Align=2, Rotate=1,\n",
    "                          ACSuseCTE = 0,FlagMask=4,CombineChi =1, ACSpsfType = 0, InterpPSFlib =1,\n",
    "                          psfA=(3, 0, 0, 0, 0, 0),\n",
    "                          psfB=(3, 0, 0, 0, 0, 0), psfC=(0, 0, 0, 0, 0, 0),\n",
    "                          shift=(0, 0), xform=(1, 0, 0), aprad=0.5,RSky=(15.0, 35.0),\n",
    "                          SigFind=2.5, \n",
    "                          SigFinal=3.0,Zero=25.0,\n",
    "                          dPosMax=3.0,  FPSF=\"G+L\",\n",
    "                          PSFStep=0.25, MinS=1.0, MaxS=9.0, MaxE=0.5,\n",
    "                          UseWCS=1, SearchMode=1,\n",
    "                          EPSF=1,\n",
    "                          PSFsol=0,  psfstars=None, psfoff=0.0,\n",
    "                          SubPixel=1,FakeStars=None, FakeMatch=3., FakeStarPSF=0, FakePSF=1.5,RandomFake=1,\n",
    "                          xytfile=None, xytpsf=None, photsec=None\n",
    "                         )\n",
    "\n"
   ]
  },
  {
   "cell_type": "code",
   "execution_count": 7,
   "metadata": {},
   "outputs": [
    {
     "data": {
      "text/plain": [
       "[]"
      ]
     },
     "execution_count": 7,
     "metadata": {},
     "output_type": "execute_result"
    }
   ],
   "source": [
    "dolpa.imageParams"
   ]
  },
  {
   "cell_type": "markdown",
   "metadata": {},
   "source": [
    "# Try chip1"
   ]
  },
  {
   "cell_type": "code",
   "execution_count": 8,
   "metadata": {},
   "outputs": [],
   "source": [
    "#dolpa.setup_image('Try/final_drz_sci.chip0',ref=True)"
   ]
  },
  {
   "cell_type": "code",
   "execution_count": 9,
   "metadata": {},
   "outputs": [],
   "source": [
    "imageref = 'FirstSet/Try/hst_10257_02_acs_wfc_f435w_j92802_drc.chip1'\n",
    "dolpa.setup_image(f'{imageref}',ref=True)"
   ]
  },
  {
   "cell_type": "code",
   "execution_count": 11,
   "metadata": {},
   "outputs": [],
   "source": [
    "#listacomallchip3 = glob.glob('{}{}'.format(datadir,'u971*[!103]m_c0m.chip3.fits'))\n",
    "listachip1 = glob.glob('{}{}'.format(datadir,'j*chip1.fits'))\n",
    "\n",
    "#Try with subset\n",
    "\n",
    "listacomchipone = listachip1\n",
    "\n",
    "\n",
    "for i in listacomchipone:\n",
    "    dolpa.setup_image(i)\n",
    "    #print(i)"
   ]
  },
  {
   "cell_type": "code",
   "execution_count": 12,
   "metadata": {},
   "outputs": [],
   "source": [
    "dolpa.write_parameters('dolphotChip1.param')"
   ]
  },
  {
   "cell_type": "code",
   "execution_count": null,
   "metadata": {},
   "outputs": [],
   "source": []
  },
  {
   "cell_type": "markdown",
   "metadata": {},
   "source": [
    "# Try Chip2"
   ]
  },
  {
   "cell_type": "code",
   "execution_count": 13,
   "metadata": {},
   "outputs": [
    {
     "data": {
      "text/plain": [
       "{'img_psfa': (3, 0, 0, 0, 0, 0),\n",
       " 'img_psfb': (3, 0, 0, 0, 0, 0),\n",
       " 'img_psfc': (0, 0, 0, 0, 0, 0),\n",
       " 'img_shift': (0, 0),\n",
       " 'img_xform': (1, 0, 0),\n",
       " 'img_aprad': 0.5,\n",
       " 'img_apsky': (15, 25),\n",
       " 'img_RSky': (15.0, 35.0),\n",
       " 'img_RSky2': (15, 35),\n",
       " 'img_RAper': 3,\n",
       " 'img_RChi': 2,\n",
       " 'img_RPSF': 15,\n",
       " 'PSFPhot': 1,\n",
       " 'PSFPhotIt': 2,\n",
       " 'FitSky': 2,\n",
       " 'SkipSky': 2,\n",
       " 'SkySig': 2.25,\n",
       " 'SigFind': 2.5,\n",
       " 'SigFindMult': 0.85,\n",
       " 'SigFinal': 3.0,\n",
       " 'MaxIT': 25,\n",
       " 'NoiseMult': 0.1,\n",
       " 'FSat': 0.999,\n",
       " 'Zero': 25.0,\n",
       " 'RCentroid': 2,\n",
       " 'PosStep': 0.25,\n",
       " 'dPosMax': 3.0,\n",
       " 'RCombine': 1.5,\n",
       " 'FPSF': 'G+L',\n",
       " 'sigPSF': 5.0,\n",
       " 'PSFStep': 0.25,\n",
       " 'MinS': 1.0,\n",
       " 'MaxS': 9.0,\n",
       " 'MaxE': 0.5,\n",
       " 'UseWCS': 1,\n",
       " 'Align': 2,\n",
       " 'Rotate': 1,\n",
       " 'secondPass': 5,\n",
       " 'SearchMode': 1,\n",
       " 'Force1': 0,\n",
       " 'EPSF': 1,\n",
       " 'ACSuseCTE': 0,\n",
       " 'CombineChi': 1,\n",
       " 'ACSpsfType': 0,\n",
       " 'InterpPSFlib': 1,\n",
       " 'PSFsol': 0,\n",
       " 'PSFres': 1,\n",
       " 'psfstars': None,\n",
       " 'psfoff': 0.0,\n",
       " 'ApCor': 1,\n",
       " 'SubPixel': 1,\n",
       " 'FakeStars': None,\n",
       " 'FakeMatch': 3.0,\n",
       " 'FakeStarPSF': 0,\n",
       " 'FakePSF': 1.5,\n",
       " 'RandomFake': 1,\n",
       " 'xytfile': None,\n",
       " 'xytpsf': None,\n",
       " 'photsec': None,\n",
       " 'FlagMask': 4}"
      ]
     },
     "execution_count": 13,
     "metadata": {},
     "output_type": "execute_result"
    }
   ],
   "source": [
    "dolpa.params"
   ]
  },
  {
   "cell_type": "code",
   "execution_count": 21,
   "metadata": {},
   "outputs": [
    {
     "name": "stdout",
     "output_type": "stream",
     "text": [
      "Nimg = 2\n",
      "img0_file = Try/u9710103m_c0m.chiptres\n",
      "img1_file = a\n",
      "img2_file = b\n",
      "img_psfa = 3.00 0.00 0.00 0.00 0.00 0.00\n",
      "img_psfb = 3.00 0.00 0.00 0.00 0.00 0.00\n",
      "img_psfc = 0.00 0.00 0.00 0.00 0.00 0.00\n",
      "img_shift = 0.00 0.00\n",
      "img_xform = 1.00 0.00 0.00\n",
      "img_aprad = 0.50\n"
     ]
    }
   ],
   "source": [
    "!head dolphot.param"
   ]
  },
  {
   "cell_type": "code",
   "execution_count": 14,
   "metadata": {},
   "outputs": [
    {
     "data": {
      "text/plain": [
       "{'img_psfa': (3, 0, 0, 0, 0, 0),\n",
       " 'img_psfb': (3, 0, 0, 0, 0, 0),\n",
       " 'img_psfc': (0, 0, 0, 0, 0, 0),\n",
       " 'img_shift': (0, 0),\n",
       " 'img_xform': (1, 0, 0),\n",
       " 'img_aprad': 0.5,\n",
       " 'img_apsky': (15, 25),\n",
       " 'img_RSky': (15.0, 35.0),\n",
       " 'img_RSky2': (15, 35),\n",
       " 'img_RAper': 3,\n",
       " 'img_RChi': 2,\n",
       " 'img_RPSF': 15,\n",
       " 'PSFPhot': 1,\n",
       " 'PSFPhotIt': 2,\n",
       " 'FitSky': 2,\n",
       " 'SkipSky': 2,\n",
       " 'SkySig': 2.25,\n",
       " 'SigFind': 2.5,\n",
       " 'SigFindMult': 0.85,\n",
       " 'SigFinal': 3.0,\n",
       " 'MaxIT': 25,\n",
       " 'NoiseMult': 0.1,\n",
       " 'FSat': 0.999,\n",
       " 'Zero': 25.0,\n",
       " 'RCentroid': 2,\n",
       " 'PosStep': 0.25,\n",
       " 'dPosMax': 3.0,\n",
       " 'RCombine': 1.5,\n",
       " 'FPSF': 'G+L',\n",
       " 'sigPSF': 5.0,\n",
       " 'PSFStep': 0.25,\n",
       " 'MinS': 1.0,\n",
       " 'MaxS': 9.0,\n",
       " 'MaxE': 0.5,\n",
       " 'UseWCS': 1,\n",
       " 'Align': 2,\n",
       " 'Rotate': 1,\n",
       " 'secondPass': 5,\n",
       " 'SearchMode': 1,\n",
       " 'Force1': 0,\n",
       " 'EPSF': 1,\n",
       " 'ACSuseCTE': 0,\n",
       " 'CombineChi': 1,\n",
       " 'ACSpsfType': 0,\n",
       " 'InterpPSFlib': 1,\n",
       " 'PSFsol': 0,\n",
       " 'PSFres': 1,\n",
       " 'psfstars': None,\n",
       " 'psfoff': 0.0,\n",
       " 'ApCor': 1,\n",
       " 'SubPixel': 1,\n",
       " 'FakeStars': None,\n",
       " 'FakeMatch': 3.0,\n",
       " 'FakeStarPSF': 0,\n",
       " 'FakePSF': 1.5,\n",
       " 'RandomFake': 1,\n",
       " 'xytfile': None,\n",
       " 'xytpsf': None,\n",
       " 'photsec': None,\n",
       " 'FlagMask': 4}"
      ]
     },
     "execution_count": 14,
     "metadata": {},
     "output_type": "execute_result"
    }
   ],
   "source": [
    "dolpa.params"
   ]
  },
  {
   "cell_type": "code",
   "execution_count": null,
   "metadata": {},
   "outputs": [],
   "source": []
  },
  {
   "cell_type": "code",
   "execution_count": null,
   "metadata": {},
   "outputs": [],
   "source": []
  }
 ],
 "metadata": {
  "kernelspec": {
   "display_name": "Python 3",
   "language": "python",
   "name": "python3"
  },
  "language_info": {
   "codemirror_mode": {
    "name": "ipython",
    "version": 3
   },
   "file_extension": ".py",
   "mimetype": "text/x-python",
   "name": "python",
   "nbconvert_exporter": "python",
   "pygments_lexer": "ipython3",
   "version": "3.8.5"
  }
 },
 "nbformat": 4,
 "nbformat_minor": 4
}
